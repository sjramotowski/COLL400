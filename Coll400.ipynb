{
 "cells": [
  {
   "cell_type": "code",
   "execution_count": 300,
   "id": "fb895329-690d-4e48-a652-fa1bdfdf4168",
   "metadata": {},
   "outputs": [],
   "source": [
    "import pandas as pd\n",
    "import numpy as np\n",
    "import matplotlib.pyplot as plt\n",
    "\n",
    "\n",
    "from sklearn.neighbors import KNeighborsClassifier as KNN\n",
    "from sklearn.preprocessing import StandardScaler as SS\n",
    "from sklearn.model_selection import train_test_split as tts\n",
    "from sklearn.linear_model import LogisticRegression as LR\n",
    "\n",
    "from sklearn.decomposition import PCA\n",
    "from sklearn.manifold import TSNE\n",
    "\n",
    "from sklearn.datasets import make_moons, make_blobs as mb, load_breast_cancer as lbc, load_iris as li"
   ]
  },
  {
   "cell_type": "code",
   "execution_count": 301,
   "id": "84fb23d2-bffa-41e1-af11-ce66ee7f876f",
   "metadata": {},
   "outputs": [],
   "source": [
    "def do_Kfold(model,X,y,k,scaler = None, random_state = 146):\n",
    "    from sklearn.model_selection import KFold\n",
    "    \n",
    "    kf = KFold(n_splits=k, random_state = random_state, shuffle=True)\n",
    "\n",
    "    train_scores = []\n",
    "    test_scores = []\n",
    "\n",
    "    for idxTrain, idxTest in kf.split(X):\n",
    "        Xtrain = X[idxTrain, :]\n",
    "        Xtest = X[idxTest, :]\n",
    "        ytrain = y[idxTrain]\n",
    "        ytest = y[idxTest]\n",
    "        if scaler != None:\n",
    "            Xtrain = scaler.fit_transform(Xtrain)\n",
    "            Xtest = scaler.transform(Xtest)\n",
    "\n",
    "        model.fit(Xtrain,ytrain)\n",
    "\n",
    "        train_scores.append(model.score(Xtrain,ytrain))\n",
    "        test_scores.append(model.score(Xtest,ytest))\n",
    "        \n",
    "    return train_scores, test_scores"
   ]
  },
  {
   "cell_type": "code",
   "execution_count": 302,
   "id": "b9038b4e-a2f0-4b4e-a4ee-eb21107e6f27",
   "metadata": {},
   "outputs": [],
   "source": [
    "def compare_classes(actual, predicted, names=None):\n",
    "    '''Function returns a confusion matrix, and overall accuracy given:\n",
    "            Input:  actual - a list of actual classifications\n",
    "                    predicted - a list of predicted classifications\n",
    "                    names (optional) - a list of class names\n",
    "    '''\n",
    "    accuracy = sum(actual==predicted)/actual.shape[0]\n",
    "    \n",
    "    classes = pd.DataFrame(columns = ['Actual', 'Predicted'])\n",
    "    classes['Actual'] = actual\n",
    "    classes['Predicted'] = predicted\n",
    "\n",
    "    conf_mat = pd.crosstab(classes['Actual'], classes['Predicted'])\n",
    "    \n",
    "    if type(names) != type(None):\n",
    "        conf_mat.index = names\n",
    "        conf_mat.index.name = 'Actual'\n",
    "        conf_mat.columns = names\n",
    "        conf_mat.columns.name = 'Predicted'\n",
    "    \n",
    "    print('Accuracy = ' + format(accuracy, '.2f'))\n",
    "    return conf_mat, accuracy"
   ]
  },
  {
   "cell_type": "code",
   "execution_count": 303,
   "id": "a21ac018-379a-4f63-968c-227f69467e3c",
   "metadata": {},
   "outputs": [],
   "source": [
    "def plot_groups(points, groups, colors, \n",
    "               ec='black', ax='None',s=30, alpha=0.5,\n",
    "               figsize=(6,6)):\n",
    "    '''Creates a scatter plot, given:\n",
    "            Input:  points (array)\n",
    "                    groups (an integer label for each point)\n",
    "                    colors (one rgb tuple for each group)\n",
    "                    ec (edgecolor for markers, default is black)\n",
    "                    ax (optional handle to an existing axes object to add the new plot on top of)\n",
    "            Output: handles to the figure (fig) and axes (ax) objects\n",
    "    '''\n",
    "    import matplotlib.pyplot as plt\n",
    "    import numpy as np\n",
    "    \n",
    "    # Create a new plot, unless something was passed for 'ax'\n",
    "    if ax == 'None':\n",
    "        fig,ax = plt.subplots(figsize=figsize)\n",
    "    else:\n",
    "        fig = plt.gcf()\n",
    "    \n",
    "    for i,lbl in enumerate(np.unique(groups)):\n",
    "        idx = (groups==lbl)\n",
    "        ax.scatter(points[idx,0], points[idx,1],color=colors[i],\n",
    "                    ec=ec,alpha=alpha,label = lbl,s=s)\n",
    "    ax.set_xlabel('$x_1$')\n",
    "    ax.set_ylabel('$x_2$')\n",
    "    ax.legend(bbox_to_anchor=[1, 0.5], loc='center left')\n",
    "    return fig, ax"
   ]
  },
  {
   "cell_type": "code",
   "execution_count": 304,
   "id": "bff56329-b354-4576-83b0-08ff608c30fa",
   "metadata": {},
   "outputs": [],
   "source": [
    "def get_colors(N, map_name='rainbow'):\n",
    "    '''Returns a list of N colors from a matplotlib colormap\n",
    "            Input: N = number of colors, and map_name = name of a matplotlib colormap\n",
    "    \n",
    "            For a list of available colormaps: \n",
    "                https://matplotlib.org/3.1.1/gallery/color/colormap_reference.html\n",
    "    '''\n",
    "    import matplotlib\n",
    "    cmap = matplotlib.cm.get_cmap(name=map_name)\n",
    "    n = np.linspace(0,1,N)\n",
    "    colors = cmap(n)\n",
    "    return colors"
   ]
  },
  {
   "cell_type": "code",
   "execution_count": 305,
   "id": "a76e0b16-da58-4aad-946e-5ebcce2532c4",
   "metadata": {},
   "outputs": [
    {
     "data": {
      "text/html": [
       "<div>\n",
       "<style scoped>\n",
       "    .dataframe tbody tr th:only-of-type {\n",
       "        vertical-align: middle;\n",
       "    }\n",
       "\n",
       "    .dataframe tbody tr th {\n",
       "        vertical-align: top;\n",
       "    }\n",
       "\n",
       "    .dataframe thead th {\n",
       "        text-align: right;\n",
       "    }\n",
       "</style>\n",
       "<table border=\"1\" class=\"dataframe\">\n",
       "  <thead>\n",
       "    <tr style=\"text-align: right;\">\n",
       "      <th></th>\n",
       "      <th>No.</th>\n",
       "      <th>Time</th>\n",
       "      <th>Source</th>\n",
       "      <th>Destination</th>\n",
       "      <th>Protocol</th>\n",
       "      <th>Length</th>\n",
       "      <th>Info</th>\n",
       "      <th>Time_Between</th>\n",
       "      <th>Website</th>\n",
       "      <th>Ttruncated</th>\n",
       "    </tr>\n",
       "  </thead>\n",
       "  <tbody>\n",
       "    <tr>\n",
       "      <th>0</th>\n",
       "      <td>1</td>\n",
       "      <td>0.000000</td>\n",
       "      <td>2600:8805:3d03:3f00:88c9:1a5:bc23:ce61</td>\n",
       "      <td>2620:0:861:ed1a::1</td>\n",
       "      <td>TLSv1.2</td>\n",
       "      <td>152</td>\n",
       "      <td>Application Data</td>\n",
       "      <td>0.000000</td>\n",
       "      <td>Wikipedia</td>\n",
       "      <td>0.000000</td>\n",
       "    </tr>\n",
       "    <tr>\n",
       "      <th>1</th>\n",
       "      <td>2</td>\n",
       "      <td>0.000063</td>\n",
       "      <td>2600:8805:3d03:3f00:88c9:1a5:bc23:ce61</td>\n",
       "      <td>2620:0:861:ed1a::1</td>\n",
       "      <td>TLSv1.2</td>\n",
       "      <td>113</td>\n",
       "      <td>Application Data</td>\n",
       "      <td>0.000063</td>\n",
       "      <td>Wikipedia</td>\n",
       "      <td>0.000063</td>\n",
       "    </tr>\n",
       "    <tr>\n",
       "      <th>2</th>\n",
       "      <td>3</td>\n",
       "      <td>0.027069</td>\n",
       "      <td>2620:0:861:ed1a::1</td>\n",
       "      <td>2600:8805:3d03:3f00:88c9:1a5:bc23:ce61</td>\n",
       "      <td>TCP</td>\n",
       "      <td>74</td>\n",
       "      <td>443  &gt;  54628 [ACK] Seq=1 Ack=118 Win=83 Len=0</td>\n",
       "      <td>0.027006</td>\n",
       "      <td>Wikipedia</td>\n",
       "      <td>0.027006</td>\n",
       "    </tr>\n",
       "    <tr>\n",
       "      <th>3</th>\n",
       "      <td>4</td>\n",
       "      <td>0.027436</td>\n",
       "      <td>2620:0:861:ed1a::1</td>\n",
       "      <td>2600:8805:3d03:3f00:88c9:1a5:bc23:ce61</td>\n",
       "      <td>TLSv1.2</td>\n",
       "      <td>113</td>\n",
       "      <td>Application Data</td>\n",
       "      <td>0.000367</td>\n",
       "      <td>Wikipedia</td>\n",
       "      <td>0.000366</td>\n",
       "    </tr>\n",
       "    <tr>\n",
       "      <th>4</th>\n",
       "      <td>5</td>\n",
       "      <td>0.027828</td>\n",
       "      <td>2620:0:861:ed1a::1</td>\n",
       "      <td>2600:8805:3d03:3f00:88c9:1a5:bc23:ce61</td>\n",
       "      <td>TCP</td>\n",
       "      <td>1514</td>\n",
       "      <td>443  &gt;  54628 [ACK] Seq=40 Ack=118 Win=83 Len=...</td>\n",
       "      <td>0.000392</td>\n",
       "      <td>Wikipedia</td>\n",
       "      <td>0.000392</td>\n",
       "    </tr>\n",
       "  </tbody>\n",
       "</table>\n",
       "</div>"
      ],
      "text/plain": [
       "   No.      Time                                  Source  \\\n",
       "0    1  0.000000  2600:8805:3d03:3f00:88c9:1a5:bc23:ce61   \n",
       "1    2  0.000063  2600:8805:3d03:3f00:88c9:1a5:bc23:ce61   \n",
       "2    3  0.027069                      2620:0:861:ed1a::1   \n",
       "3    4  0.027436                      2620:0:861:ed1a::1   \n",
       "4    5  0.027828                      2620:0:861:ed1a::1   \n",
       "\n",
       "                              Destination Protocol  Length  \\\n",
       "0                      2620:0:861:ed1a::1  TLSv1.2     152   \n",
       "1                      2620:0:861:ed1a::1  TLSv1.2     113   \n",
       "2  2600:8805:3d03:3f00:88c9:1a5:bc23:ce61      TCP      74   \n",
       "3  2600:8805:3d03:3f00:88c9:1a5:bc23:ce61  TLSv1.2     113   \n",
       "4  2600:8805:3d03:3f00:88c9:1a5:bc23:ce61      TCP    1514   \n",
       "\n",
       "                                                Info  Time_Between    Website  \\\n",
       "0                                   Application Data      0.000000  Wikipedia   \n",
       "1                                   Application Data      0.000063  Wikipedia   \n",
       "2     443  >  54628 [ACK] Seq=1 Ack=118 Win=83 Len=0      0.027006  Wikipedia   \n",
       "3                                   Application Data      0.000367  Wikipedia   \n",
       "4  443  >  54628 [ACK] Seq=40 Ack=118 Win=83 Len=...      0.000392  Wikipedia   \n",
       "\n",
       "   Ttruncated  \n",
       "0    0.000000  \n",
       "1    0.000063  \n",
       "2    0.027006  \n",
       "3    0.000366  \n",
       "4    0.000392  "
      ]
     },
     "execution_count": 305,
     "metadata": {},
     "output_type": "execute_result"
    }
   ],
   "source": [
    "wikipedia = pd.read_csv('data/wikipedia_data_test2.csv', sep = ',')\n",
    "wikipedia.head()"
   ]
  },
  {
   "cell_type": "code",
   "execution_count": 306,
   "id": "f92e7bee-f3f3-457b-b4af-b433fe9f96c5",
   "metadata": {},
   "outputs": [
    {
     "data": {
      "text/html": [
       "<div>\n",
       "<style scoped>\n",
       "    .dataframe tbody tr th:only-of-type {\n",
       "        vertical-align: middle;\n",
       "    }\n",
       "\n",
       "    .dataframe tbody tr th {\n",
       "        vertical-align: top;\n",
       "    }\n",
       "\n",
       "    .dataframe thead th {\n",
       "        text-align: right;\n",
       "    }\n",
       "</style>\n",
       "<table border=\"1\" class=\"dataframe\">\n",
       "  <thead>\n",
       "    <tr style=\"text-align: right;\">\n",
       "      <th></th>\n",
       "      <th>No.</th>\n",
       "      <th>Time</th>\n",
       "      <th>Source</th>\n",
       "      <th>Destination</th>\n",
       "      <th>Protocol</th>\n",
       "      <th>Length</th>\n",
       "      <th>Info</th>\n",
       "      <th>Time_Between</th>\n",
       "      <th>Website</th>\n",
       "      <th>Ttruncated</th>\n",
       "    </tr>\n",
       "  </thead>\n",
       "  <tbody>\n",
       "    <tr>\n",
       "      <th>0</th>\n",
       "      <td>1</td>\n",
       "      <td>0.000000</td>\n",
       "      <td>2600:8805:3d03:3f00:88c9:1a5:bc23:ce61</td>\n",
       "      <td>2607:f8b0:4004:c19::67</td>\n",
       "      <td>QUIC</td>\n",
       "      <td>1292</td>\n",
       "      <td>Initial, DCID=9a55d56ee1f7b6cb, PKN: 1, CRYPTO...</td>\n",
       "      <td>0.000000</td>\n",
       "      <td>Google</td>\n",
       "      <td>0.000000</td>\n",
       "    </tr>\n",
       "    <tr>\n",
       "      <th>1</th>\n",
       "      <td>2</td>\n",
       "      <td>0.000229</td>\n",
       "      <td>2600:8805:3d03:3f00:88c9:1a5:bc23:ce61</td>\n",
       "      <td>2607:f8b0:4004:c19::67</td>\n",
       "      <td>QUIC</td>\n",
       "      <td>144</td>\n",
       "      <td>0-RTT, DCID=9a55d56ee1f7b6cb</td>\n",
       "      <td>0.000229</td>\n",
       "      <td>Google</td>\n",
       "      <td>0.000229</td>\n",
       "    </tr>\n",
       "    <tr>\n",
       "      <th>2</th>\n",
       "      <td>3</td>\n",
       "      <td>0.000642</td>\n",
       "      <td>2600:8805:3d03:3f00:88c9:1a5:bc23:ce61</td>\n",
       "      <td>2607:f8b0:4004:c19::67</td>\n",
       "      <td>QUIC</td>\n",
       "      <td>1288</td>\n",
       "      <td>0-RTT, DCID=9a55d56ee1f7b6cb</td>\n",
       "      <td>0.000413</td>\n",
       "      <td>Google</td>\n",
       "      <td>0.000413</td>\n",
       "    </tr>\n",
       "    <tr>\n",
       "      <th>3</th>\n",
       "      <td>4</td>\n",
       "      <td>0.000812</td>\n",
       "      <td>2600:8805:3d03:3f00:88c9:1a5:bc23:ce61</td>\n",
       "      <td>2607:f8b0:4004:c19::67</td>\n",
       "      <td>QUIC</td>\n",
       "      <td>1279</td>\n",
       "      <td>0-RTT, DCID=9a55d56ee1f7b6cb</td>\n",
       "      <td>0.000170</td>\n",
       "      <td>Google</td>\n",
       "      <td>0.000170</td>\n",
       "    </tr>\n",
       "    <tr>\n",
       "      <th>4</th>\n",
       "      <td>5</td>\n",
       "      <td>0.023711</td>\n",
       "      <td>2607:f8b0:4004:c19::67</td>\n",
       "      <td>2600:8805:3d03:3f00:88c9:1a5:bc23:ce61</td>\n",
       "      <td>QUIC</td>\n",
       "      <td>1292</td>\n",
       "      <td>Handshake, SCID=fa55d56ee1f7b6cb</td>\n",
       "      <td>0.022899</td>\n",
       "      <td>Google</td>\n",
       "      <td>0.022899</td>\n",
       "    </tr>\n",
       "  </tbody>\n",
       "</table>\n",
       "</div>"
      ],
      "text/plain": [
       "   No.      Time                                  Source  \\\n",
       "0    1  0.000000  2600:8805:3d03:3f00:88c9:1a5:bc23:ce61   \n",
       "1    2  0.000229  2600:8805:3d03:3f00:88c9:1a5:bc23:ce61   \n",
       "2    3  0.000642  2600:8805:3d03:3f00:88c9:1a5:bc23:ce61   \n",
       "3    4  0.000812  2600:8805:3d03:3f00:88c9:1a5:bc23:ce61   \n",
       "4    5  0.023711                  2607:f8b0:4004:c19::67   \n",
       "\n",
       "                              Destination Protocol  Length  \\\n",
       "0                  2607:f8b0:4004:c19::67     QUIC    1292   \n",
       "1                  2607:f8b0:4004:c19::67     QUIC     144   \n",
       "2                  2607:f8b0:4004:c19::67     QUIC    1288   \n",
       "3                  2607:f8b0:4004:c19::67     QUIC    1279   \n",
       "4  2600:8805:3d03:3f00:88c9:1a5:bc23:ce61     QUIC    1292   \n",
       "\n",
       "                                                Info  Time_Between Website  \\\n",
       "0  Initial, DCID=9a55d56ee1f7b6cb, PKN: 1, CRYPTO...      0.000000  Google   \n",
       "1                       0-RTT, DCID=9a55d56ee1f7b6cb      0.000229  Google   \n",
       "2                       0-RTT, DCID=9a55d56ee1f7b6cb      0.000413  Google   \n",
       "3                       0-RTT, DCID=9a55d56ee1f7b6cb      0.000170  Google   \n",
       "4                   Handshake, SCID=fa55d56ee1f7b6cb      0.022899  Google   \n",
       "\n",
       "   Ttruncated  \n",
       "0    0.000000  \n",
       "1    0.000229  \n",
       "2    0.000413  \n",
       "3    0.000170  \n",
       "4    0.022899  "
      ]
     },
     "execution_count": 306,
     "metadata": {},
     "output_type": "execute_result"
    }
   ],
   "source": [
    "google = pd.read_csv('data/google_data_test2.csv', sep = ',')\n",
    "google.head()"
   ]
  },
  {
   "cell_type": "code",
   "execution_count": 307,
   "id": "d5a22872-3f07-46d5-a597-0ecc1f9d8a68",
   "metadata": {},
   "outputs": [
    {
     "data": {
      "text/html": [
       "<div>\n",
       "<style scoped>\n",
       "    .dataframe tbody tr th:only-of-type {\n",
       "        vertical-align: middle;\n",
       "    }\n",
       "\n",
       "    .dataframe tbody tr th {\n",
       "        vertical-align: top;\n",
       "    }\n",
       "\n",
       "    .dataframe thead th {\n",
       "        text-align: right;\n",
       "    }\n",
       "</style>\n",
       "<table border=\"1\" class=\"dataframe\">\n",
       "  <thead>\n",
       "    <tr style=\"text-align: right;\">\n",
       "      <th></th>\n",
       "      <th>No.</th>\n",
       "      <th>Time</th>\n",
       "      <th>Source</th>\n",
       "      <th>Destination</th>\n",
       "      <th>Protocol</th>\n",
       "      <th>Length</th>\n",
       "      <th>Info</th>\n",
       "      <th>Time_Between</th>\n",
       "      <th>Website</th>\n",
       "      <th>Ttruncated</th>\n",
       "    </tr>\n",
       "  </thead>\n",
       "  <tbody>\n",
       "    <tr>\n",
       "      <th>0</th>\n",
       "      <td>1</td>\n",
       "      <td>0.000000</td>\n",
       "      <td>2600:8805:3d03:3f00:88c9:1a5:bc23:ce61</td>\n",
       "      <td>2600:1408:ec00:128b::2e03</td>\n",
       "      <td>TCP</td>\n",
       "      <td>86</td>\n",
       "      <td>51983  &gt;  443 [SYN] Seq=0 Win=64800 Len=0 MSS=...</td>\n",
       "      <td>0.000000</td>\n",
       "      <td>Weather</td>\n",
       "      <td>0.000000</td>\n",
       "    </tr>\n",
       "    <tr>\n",
       "      <th>1</th>\n",
       "      <td>2</td>\n",
       "      <td>0.001429</td>\n",
       "      <td>2600:8805:3d03:3f00:88c9:1a5:bc23:ce61</td>\n",
       "      <td>2600:1408:ec00:128b::2e03</td>\n",
       "      <td>TCP</td>\n",
       "      <td>86</td>\n",
       "      <td>51984  &gt;  443 [SYN] Seq=0 Win=64800 Len=0 MSS=...</td>\n",
       "      <td>0.001429</td>\n",
       "      <td>Weather</td>\n",
       "      <td>0.001429</td>\n",
       "    </tr>\n",
       "    <tr>\n",
       "      <th>2</th>\n",
       "      <td>3</td>\n",
       "      <td>0.025480</td>\n",
       "      <td>2600:1408:ec00:128b::2e03</td>\n",
       "      <td>2600:8805:3d03:3f00:88c9:1a5:bc23:ce61</td>\n",
       "      <td>TCP</td>\n",
       "      <td>86</td>\n",
       "      <td>443  &gt;  51984 [SYN, ACK] Seq=0 Ack=1 Win=64800...</td>\n",
       "      <td>0.024051</td>\n",
       "      <td>Weather</td>\n",
       "      <td>0.024051</td>\n",
       "    </tr>\n",
       "    <tr>\n",
       "      <th>3</th>\n",
       "      <td>4</td>\n",
       "      <td>0.025480</td>\n",
       "      <td>2600:1408:ec00:128b::2e03</td>\n",
       "      <td>2600:8805:3d03:3f00:88c9:1a5:bc23:ce61</td>\n",
       "      <td>TCP</td>\n",
       "      <td>86</td>\n",
       "      <td>443  &gt;  51983 [SYN, ACK] Seq=0 Ack=1 Win=64800...</td>\n",
       "      <td>0.000000</td>\n",
       "      <td>Weather</td>\n",
       "      <td>0.000000</td>\n",
       "    </tr>\n",
       "    <tr>\n",
       "      <th>4</th>\n",
       "      <td>5</td>\n",
       "      <td>0.026430</td>\n",
       "      <td>2600:8805:3d03:3f00:88c9:1a5:bc23:ce61</td>\n",
       "      <td>2600:1408:ec00:128b::2e03</td>\n",
       "      <td>TCP</td>\n",
       "      <td>74</td>\n",
       "      <td>51984  &gt;  443 [ACK] Seq=1 Ack=1 Win=263424 Len=0</td>\n",
       "      <td>0.000950</td>\n",
       "      <td>Weather</td>\n",
       "      <td>0.000949</td>\n",
       "    </tr>\n",
       "  </tbody>\n",
       "</table>\n",
       "</div>"
      ],
      "text/plain": [
       "   No.      Time                                  Source  \\\n",
       "0    1  0.000000  2600:8805:3d03:3f00:88c9:1a5:bc23:ce61   \n",
       "1    2  0.001429  2600:8805:3d03:3f00:88c9:1a5:bc23:ce61   \n",
       "2    3  0.025480               2600:1408:ec00:128b::2e03   \n",
       "3    4  0.025480               2600:1408:ec00:128b::2e03   \n",
       "4    5  0.026430  2600:8805:3d03:3f00:88c9:1a5:bc23:ce61   \n",
       "\n",
       "                              Destination Protocol  Length  \\\n",
       "0               2600:1408:ec00:128b::2e03      TCP      86   \n",
       "1               2600:1408:ec00:128b::2e03      TCP      86   \n",
       "2  2600:8805:3d03:3f00:88c9:1a5:bc23:ce61      TCP      86   \n",
       "3  2600:8805:3d03:3f00:88c9:1a5:bc23:ce61      TCP      86   \n",
       "4               2600:1408:ec00:128b::2e03      TCP      74   \n",
       "\n",
       "                                                Info  Time_Between  Website  \\\n",
       "0  51983  >  443 [SYN] Seq=0 Win=64800 Len=0 MSS=...      0.000000  Weather   \n",
       "1  51984  >  443 [SYN] Seq=0 Win=64800 Len=0 MSS=...      0.001429  Weather   \n",
       "2  443  >  51984 [SYN, ACK] Seq=0 Ack=1 Win=64800...      0.024051  Weather   \n",
       "3  443  >  51983 [SYN, ACK] Seq=0 Ack=1 Win=64800...      0.000000  Weather   \n",
       "4   51984  >  443 [ACK] Seq=1 Ack=1 Win=263424 Len=0      0.000950  Weather   \n",
       "\n",
       "   Ttruncated  \n",
       "0    0.000000  \n",
       "1    0.001429  \n",
       "2    0.024051  \n",
       "3    0.000000  \n",
       "4    0.000949  "
      ]
     },
     "execution_count": 307,
     "metadata": {},
     "output_type": "execute_result"
    }
   ],
   "source": [
    "weather = pd.read_csv('data/weather_data_test2.csv', sep = ',')\n",
    "weather.head()"
   ]
  },
  {
   "cell_type": "code",
   "execution_count": 308,
   "id": "7550d3da-82d1-428a-8878-725ab72b31ad",
   "metadata": {},
   "outputs": [
    {
     "data": {
      "text/html": [
       "<div>\n",
       "<style scoped>\n",
       "    .dataframe tbody tr th:only-of-type {\n",
       "        vertical-align: middle;\n",
       "    }\n",
       "\n",
       "    .dataframe tbody tr th {\n",
       "        vertical-align: top;\n",
       "    }\n",
       "\n",
       "    .dataframe thead th {\n",
       "        text-align: right;\n",
       "    }\n",
       "</style>\n",
       "<table border=\"1\" class=\"dataframe\">\n",
       "  <thead>\n",
       "    <tr style=\"text-align: right;\">\n",
       "      <th></th>\n",
       "      <th>No.</th>\n",
       "      <th>Time</th>\n",
       "      <th>Source</th>\n",
       "      <th>Destination</th>\n",
       "      <th>Protocol</th>\n",
       "      <th>Length</th>\n",
       "      <th>Info</th>\n",
       "      <th>Time_Between</th>\n",
       "      <th>Website</th>\n",
       "      <th>Ttruncated</th>\n",
       "    </tr>\n",
       "  </thead>\n",
       "  <tbody>\n",
       "    <tr>\n",
       "      <th>0</th>\n",
       "      <td>1</td>\n",
       "      <td>0.000000</td>\n",
       "      <td>192.168.0.178</td>\n",
       "      <td>52.5.166.159</td>\n",
       "      <td>TLSv1.2</td>\n",
       "      <td>3263</td>\n",
       "      <td>Application Data</td>\n",
       "      <td>0.000000</td>\n",
       "      <td>Blackboard</td>\n",
       "      <td>0.000000</td>\n",
       "    </tr>\n",
       "    <tr>\n",
       "      <th>1</th>\n",
       "      <td>2</td>\n",
       "      <td>0.002126</td>\n",
       "      <td>192.168.0.178</td>\n",
       "      <td>52.5.166.159</td>\n",
       "      <td>TLSv1.2</td>\n",
       "      <td>3240</td>\n",
       "      <td>Application Data</td>\n",
       "      <td>0.002126</td>\n",
       "      <td>Blackboard</td>\n",
       "      <td>0.002126</td>\n",
       "    </tr>\n",
       "    <tr>\n",
       "      <th>2</th>\n",
       "      <td>3</td>\n",
       "      <td>0.017495</td>\n",
       "      <td>52.5.166.159</td>\n",
       "      <td>192.168.0.178</td>\n",
       "      <td>TCP</td>\n",
       "      <td>60</td>\n",
       "      <td>443  &gt;  53671 [ACK] Seq=1 Ack=3210 Win=763 Len=0</td>\n",
       "      <td>0.015369</td>\n",
       "      <td>Blackboard</td>\n",
       "      <td>0.015369</td>\n",
       "    </tr>\n",
       "    <tr>\n",
       "      <th>3</th>\n",
       "      <td>4</td>\n",
       "      <td>0.028035</td>\n",
       "      <td>52.5.166.159</td>\n",
       "      <td>192.168.0.178</td>\n",
       "      <td>TCP</td>\n",
       "      <td>60</td>\n",
       "      <td>443  &gt;  53679 [ACK] Seq=1 Ack=3187 Win=522 Len=0</td>\n",
       "      <td>0.010540</td>\n",
       "      <td>Blackboard</td>\n",
       "      <td>0.010540</td>\n",
       "    </tr>\n",
       "    <tr>\n",
       "      <th>4</th>\n",
       "      <td>5</td>\n",
       "      <td>0.035861</td>\n",
       "      <td>52.5.166.159</td>\n",
       "      <td>192.168.0.178</td>\n",
       "      <td>TLSv1.2</td>\n",
       "      <td>1510</td>\n",
       "      <td>Application Data</td>\n",
       "      <td>0.007826</td>\n",
       "      <td>Blackboard</td>\n",
       "      <td>0.007826</td>\n",
       "    </tr>\n",
       "  </tbody>\n",
       "</table>\n",
       "</div>"
      ],
      "text/plain": [
       "   No.      Time         Source    Destination Protocol  Length  \\\n",
       "0    1  0.000000  192.168.0.178   52.5.166.159  TLSv1.2    3263   \n",
       "1    2  0.002126  192.168.0.178   52.5.166.159  TLSv1.2    3240   \n",
       "2    3  0.017495   52.5.166.159  192.168.0.178      TCP      60   \n",
       "3    4  0.028035   52.5.166.159  192.168.0.178      TCP      60   \n",
       "4    5  0.035861   52.5.166.159  192.168.0.178  TLSv1.2    1510   \n",
       "\n",
       "                                               Info  Time_Between     Website  \\\n",
       "0                                  Application Data      0.000000  Blackboard   \n",
       "1                                  Application Data      0.002126  Blackboard   \n",
       "2  443  >  53671 [ACK] Seq=1 Ack=3210 Win=763 Len=0      0.015369  Blackboard   \n",
       "3  443  >  53679 [ACK] Seq=1 Ack=3187 Win=522 Len=0      0.010540  Blackboard   \n",
       "4                                  Application Data      0.007826  Blackboard   \n",
       "\n",
       "   Ttruncated  \n",
       "0    0.000000  \n",
       "1    0.002126  \n",
       "2    0.015369  \n",
       "3    0.010540  \n",
       "4    0.007826  "
      ]
     },
     "execution_count": 308,
     "metadata": {},
     "output_type": "execute_result"
    }
   ],
   "source": [
    "blackboard = pd.read_csv('data/blackboard_data_test2.csv', sep = ',')\n",
    "blackboard.head()"
   ]
  },
  {
   "cell_type": "code",
   "execution_count": 309,
   "id": "bd334e79-60e2-4324-93f1-ee56a50803fe",
   "metadata": {},
   "outputs": [
    {
     "data": {
      "text/plain": [
       "(8000, 10)"
      ]
     },
     "execution_count": 309,
     "metadata": {},
     "output_type": "execute_result"
    }
   ],
   "source": [
    "frames = [wikipedia, google, blackboard, weather]\n",
    "data = pd.concat(frames)\n",
    "data.shape"
   ]
  },
  {
   "cell_type": "code",
   "execution_count": 310,
   "id": "6dccb10d-6f00-4bfa-88ab-2e2bd0facfde",
   "metadata": {},
   "outputs": [],
   "source": [
    "X_df = data.drop(columns = ['Source','Destination', 'Info', 'Time_Between', 'Website', 'Time', 'No.'])"
   ]
  },
  {
   "cell_type": "code",
   "execution_count": 311,
   "id": "0be97b04-e978-41c0-857f-04789851e511",
   "metadata": {},
   "outputs": [
    {
     "name": "stderr",
     "output_type": "stream",
     "text": [
      "/tmp/ipykernel_245/2852615366.py:1: FutureWarning: Downcasting behavior in `replace` is deprecated and will be removed in a future version. To retain the old behavior, explicitly call `result.infer_objects(copy=False)`. To opt-in to the future behavior, set `pd.set_option('future.no_silent_downcasting', True)`\n",
      "  X_df1 = X_df.replace(['TLSv1.2', 'TLSv1.3', 'TCP', 'QUIC'], [0, 1, 2, 3])\n"
     ]
    }
   ],
   "source": [
    "X_df1 = X_df.replace(['TLSv1.2', 'TLSv1.3', 'TCP', 'QUIC'], [0, 1, 2, 3])"
   ]
  },
  {
   "cell_type": "code",
   "execution_count": 312,
   "id": "b291c033-008f-4c15-9ade-ad02db2fd5bf",
   "metadata": {},
   "outputs": [
    {
     "data": {
      "text/plain": [
       "array([0, 2, 3, 1])"
      ]
     },
     "execution_count": 312,
     "metadata": {},
     "output_type": "execute_result"
    }
   ],
   "source": [
    "X_df1['Protocol'].unique()"
   ]
  },
  {
   "cell_type": "code",
   "execution_count": 313,
   "id": "fc66526f-9805-4936-a502-134b4abedfa5",
   "metadata": {},
   "outputs": [
    {
     "data": {
      "text/html": [
       "<div>\n",
       "<style scoped>\n",
       "    .dataframe tbody tr th:only-of-type {\n",
       "        vertical-align: middle;\n",
       "    }\n",
       "\n",
       "    .dataframe tbody tr th {\n",
       "        vertical-align: top;\n",
       "    }\n",
       "\n",
       "    .dataframe thead th {\n",
       "        text-align: right;\n",
       "    }\n",
       "</style>\n",
       "<table border=\"1\" class=\"dataframe\">\n",
       "  <thead>\n",
       "    <tr style=\"text-align: right;\">\n",
       "      <th></th>\n",
       "      <th>Protocol</th>\n",
       "      <th>Length</th>\n",
       "      <th>Ttruncated</th>\n",
       "    </tr>\n",
       "  </thead>\n",
       "  <tbody>\n",
       "    <tr>\n",
       "      <th>0</th>\n",
       "      <td>0</td>\n",
       "      <td>152</td>\n",
       "      <td>0.000000</td>\n",
       "    </tr>\n",
       "    <tr>\n",
       "      <th>1</th>\n",
       "      <td>0</td>\n",
       "      <td>113</td>\n",
       "      <td>0.000063</td>\n",
       "    </tr>\n",
       "    <tr>\n",
       "      <th>2</th>\n",
       "      <td>2</td>\n",
       "      <td>74</td>\n",
       "      <td>0.027006</td>\n",
       "    </tr>\n",
       "    <tr>\n",
       "      <th>3</th>\n",
       "      <td>0</td>\n",
       "      <td>113</td>\n",
       "      <td>0.000366</td>\n",
       "    </tr>\n",
       "    <tr>\n",
       "      <th>4</th>\n",
       "      <td>2</td>\n",
       "      <td>1514</td>\n",
       "      <td>0.000392</td>\n",
       "    </tr>\n",
       "  </tbody>\n",
       "</table>\n",
       "</div>"
      ],
      "text/plain": [
       "   Protocol  Length  Ttruncated\n",
       "0         0     152    0.000000\n",
       "1         0     113    0.000063\n",
       "2         2      74    0.027006\n",
       "3         0     113    0.000366\n",
       "4         2    1514    0.000392"
      ]
     },
     "execution_count": 313,
     "metadata": {},
     "output_type": "execute_result"
    }
   ],
   "source": [
    "X_df1.head()"
   ]
  },
  {
   "cell_type": "code",
   "execution_count": 314,
   "id": "a344a6f9-0fa0-4d47-b95e-57d05cd0d8bc",
   "metadata": {},
   "outputs": [],
   "source": [
    "y = data['Website'].values #turn into array"
   ]
  },
  {
   "cell_type": "code",
   "execution_count": 315,
   "id": "7c50285e-d0f9-4d0d-b92f-9f567fb92a5b",
   "metadata": {},
   "outputs": [],
   "source": [
    "X = np.array(X_df1)"
   ]
  },
  {
   "cell_type": "code",
   "execution_count": 316,
   "id": "45574009-6f75-4061-bf3a-f1dc92e17eb5",
   "metadata": {},
   "outputs": [
    {
     "data": {
      "image/png": "[encoded data removed]",
      "text/plain": [
       "<Figure size 800x800 with 1 Axes>"
      ]
     },
     "metadata": {},
     "output_type": "display_data"
    }
   ],
   "source": [
    "import seaborn as sns\n",
    "X_names = ['Protocol', 'Length', 'Ttruncated']\n",
    "plt.figure(figsize = [8,8])\n",
    "sns.stripplot(data = pd.DataFrame(X,columns = X_names), orient = 'h')\n",
    "plt.show()"
   ]
  },
  {
   "cell_type": "code",
   "execution_count": 317,
   "id": "3b879373-b692-4e74-9f45-6c0b68919395",
   "metadata": {},
   "outputs": [
    {
     "ename": "SyntaxError",
     "evalue": "incomplete input (3604703223.py, line 1)",
     "output_type": "error",
     "traceback": [
      "\u001b[0;36m  Cell \u001b[0;32mIn[317], line 1\u001b[0;36m\u001b[0m\n\u001b[0;31m    '''neighbor_range = np.array(range(2,100))\u001b[0m\n\u001b[0m    ^\u001b[0m\n\u001b[0;31mSyntaxError\u001b[0m\u001b[0;31m:\u001b[0m incomplete input\n"
     ]
    }
   ],
   "source": [
    "'''neighbor_range = np.array(range(2,100))\n",
    "\n",
    "train=[]\n",
    "test=[]\n",
    "\n",
    "k = 10\n",
    "\n",
    "for n_neighbors in neighbor_range:\n",
    "    knn = KNN(n_neighbors = n_neighbors)\n",
    "    tr,te = do_Kfold(knn, X,y,k,SS())\n",
    "    train.append(np.mean(tr))\n",
    "    test.append(np.mean(te))"
   ]
  },
  {
   "cell_type": "code",
   "execution_count": null,
   "id": "c4f0ecb2-ae8d-4d59-bf39-dd4e97d10f0c",
   "metadata": {},
   "outputs": [],
   "source": [
    "'''plt.figure(figsize=(25,12))\n",
    "plt.plot(neighbor_range, train, ':xk', label='Training')\n",
    "plt.plot(neighbor_range, test, ':xr', label='Testing')\n",
    "plt.ylabel('Mean accuracy', fontsize=14)\n",
    "plt.xlabel('$k$',fontsize=14)\n",
    "plt.xticks()\n",
    "plt.legend()\n",
    "plt.show()"
   ]
  },
  {
   "cell_type": "code",
   "execution_count": null,
   "id": "362f2ac0-552f-4d45-863a-155913611c6f",
   "metadata": {},
   "outputs": [],
   "source": [
    "'''idx = test == np.max(test)\n",
    "neighbor_range[idx]"
   ]
  },
  {
   "cell_type": "code",
   "execution_count": 318,
   "id": "375dd1e8-8f34-4e11-ac53-7e0127c68bfa",
   "metadata": {},
   "outputs": [],
   "source": [
    "Xtrain,Xtest,ytrain,ytest = tts(X,y,test_size=0.2,random_state=374)"
   ]
  },
  {
   "cell_type": "code",
   "execution_count": 319,
   "id": "6fe5a232-7687-4e98-8a9f-02f68d4b2782",
   "metadata": {},
   "outputs": [],
   "source": [
    "ss = SS()\n",
    "Xtrain = ss.fit_transform(Xtrain)\n",
    "Xtest = ss.transform(Xtest)"
   ]
  },
  {
   "cell_type": "code",
   "execution_count": 320,
   "id": "60e599fd-2016-4f3a-970e-3ebc1333911f",
   "metadata": {},
   "outputs": [],
   "source": [
    "knn = KNN(n_neighbors=38)"
   ]
  },
  {
   "cell_type": "code",
   "execution_count": 321,
   "id": "f15d39d3-76c2-4e86-b152-157f8c8c72e5",
   "metadata": {},
   "outputs": [
    {
     "data": {
      "text/html": [
       "<style>#sk-container-id-7 {\n",
       "  /* Definition of color scheme common for light and dark mode */\n",
       "  --sklearn-color-text: black;\n",
       "  --sklearn-color-line: gray;\n",
       "  /* Definition of color scheme for unfitted estimators */\n",
       "  --sklearn-color-unfitted-level-0: #fff5e6;\n",
       "  --sklearn-color-unfitted-level-1: #f6e4d2;\n",
       "  --sklearn-color-unfitted-level-2: #ffe0b3;\n",
       "  --sklearn-color-unfitted-level-3: chocolate;\n",
       "  /* Definition of color scheme for fitted estimators */\n",
       "  --sklearn-color-fitted-level-0: #f0f8ff;\n",
       "  --sklearn-color-fitted-level-1: #d4ebff;\n",
       "  --sklearn-color-fitted-level-2: #b3dbfd;\n",
       "  --sklearn-color-fitted-level-3: cornflowerblue;\n",
       "\n",
       "  /* Specific color for light theme */\n",
       "  --sklearn-color-text-on-default-background: var(--sg-text-color, var(--theme-code-foreground, var(--jp-content-font-color1, black)));\n",
       "  --sklearn-color-background: var(--sg-background-color, var(--theme-background, var(--jp-layout-color0, white)));\n",
       "  --sklearn-color-border-box: var(--sg-text-color, var(--theme-code-foreground, var(--jp-content-font-color1, black)));\n",
       "  --sklearn-color-icon: #696969;\n",
       "\n",
       "  @media (prefers-color-scheme: dark) {\n",
       "    /* Redefinition of color scheme for dark theme */\n",
       "    --sklearn-color-text-on-default-background: var(--sg-text-color, var(--theme-code-foreground, var(--jp-content-font-color1, white)));\n",
       "    --sklearn-color-background: var(--sg-background-color, var(--theme-background, var(--jp-layout-color0, #111)));\n",
       "    --sklearn-color-border-box: var(--sg-text-color, var(--theme-code-foreground, var(--jp-content-font-color1, white)));\n",
       "    --sklearn-color-icon: #878787;\n",
       "  }\n",
       "}\n",
       "\n",
       "#sk-container-id-7 {\n",
       "  color: var(--sklearn-color-text);\n",
       "}\n",
       "\n",
       "#sk-container-id-7 pre {\n",
       "  padding: 0;\n",
       "}\n",
       "\n",
       "#sk-container-id-7 input.sk-hidden--visually {\n",
       "  border: 0;\n",
       "  clip: rect(1px 1px 1px 1px);\n",
       "  clip: rect(1px, 1px, 1px, 1px);\n",
       "  height: 1px;\n",
       "  margin: -1px;\n",
       "  overflow: hidden;\n",
       "  padding: 0;\n",
       "  position: absolute;\n",
       "  width: 1px;\n",
       "}\n",
       "\n",
       "#sk-container-id-7 div.sk-dashed-wrapped {\n",
       "  border: 1px dashed var(--sklearn-color-line);\n",
       "  margin: 0 0.4em 0.5em 0.4em;\n",
       "  box-sizing: border-box;\n",
       "  padding-bottom: 0.4em;\n",
       "  background-color: var(--sklearn-color-background);\n",
       "}\n",
       "\n",
       "#sk-container-id-7 div.sk-container {\n",
       "  /* jupyter's `normalize.less` sets `[hidden] { display: none; }`\n",
       "     but bootstrap.min.css set `[hidden] { display: none !important; }`\n",
       "     so we also need the `!important` here to be able to override the\n",
       "     default hidden behavior on the sphinx rendered scikit-learn.org.\n",
       "     See: https://github.com/scikit-learn/scikit-learn/issues/21755 */\n",
       "  display: inline-block !important;\n",
       "  position: relative;\n",
       "}\n",
       "\n",
       "#sk-container-id-7 div.sk-text-repr-fallback {\n",
       "  display: none;\n",
       "}\n",
       "\n",
       "div.sk-parallel-item,\n",
       "div.sk-serial,\n",
       "div.sk-item {\n",
       "  /* draw centered vertical line to link estimators */\n",
       "  background-image: linear-gradient(var(--sklearn-color-text-on-default-background), var(--sklearn-color-text-on-default-background));\n",
       "  background-size: 2px 100%;\n",
       "  background-repeat: no-repeat;\n",
       "  background-position: center center;\n",
       "}\n",
       "\n",
       "/* Parallel-specific style estimator block */\n",
       "\n",
       "#sk-container-id-7 div.sk-parallel-item::after {\n",
       "  content: \"\";\n",
       "  width: 100%;\n",
       "  border-bottom: 2px solid var(--sklearn-color-text-on-default-background);\n",
       "  flex-grow: 1;\n",
       "}\n",
       "\n",
       "#sk-container-id-7 div.sk-parallel {\n",
       "  display: flex;\n",
       "  align-items: stretch;\n",
       "  justify-content: center;\n",
       "  background-color: var(--sklearn-color-background);\n",
       "  position: relative;\n",
       "}\n",
       "\n",
       "#sk-container-id-7 div.sk-parallel-item {\n",
       "  display: flex;\n",
       "  flex-direction: column;\n",
       "}\n",
       "\n",
       "#sk-container-id-7 div.sk-parallel-item:first-child::after {\n",
       "  align-self: flex-end;\n",
       "  width: 50%;\n",
       "}\n",
       "\n",
       "#sk-container-id-7 div.sk-parallel-item:last-child::after {\n",
       "  align-self: flex-start;\n",
       "  width: 50%;\n",
       "}\n",
       "\n",
       "#sk-container-id-7 div.sk-parallel-item:only-child::after {\n",
       "  width: 0;\n",
       "}\n",
       "\n",
       "/* Serial-specific style estimator block */\n",
       "\n",
       "#sk-container-id-7 div.sk-serial {\n",
       "  display: flex;\n",
       "  flex-direction: column;\n",
       "  align-items: center;\n",
       "  background-color: var(--sklearn-color-background);\n",
       "  padding-right: 1em;\n",
       "  padding-left: 1em;\n",
       "}\n",
       "\n",
       "\n",
       "/* Toggleable style: style used for estimator/Pipeline/ColumnTransformer box that is\n",
       "clickable and can be expanded/collapsed.\n",
       "- Pipeline and ColumnTransformer use this feature and define the default style\n",
       "- Estimators will overwrite some part of the style using the `sk-estimator` class\n",
       "*/\n",
       "\n",
       "/* Pipeline and ColumnTransformer style (default) */\n",
       "\n",
       "#sk-container-id-7 div.sk-toggleable {\n",
       "  /* Default theme specific background. It is overwritten whether we have a\n",
       "  specific estimator or a Pipeline/ColumnTransformer */\n",
       "  background-color: var(--sklearn-color-background);\n",
       "}\n",
       "\n",
       "/* Toggleable label */\n",
       "#sk-container-id-7 label.sk-toggleable__label {\n",
       "  cursor: pointer;\n",
       "  display: block;\n",
       "  width: 100%;\n",
       "  margin-bottom: 0;\n",
       "  padding: 0.5em;\n",
       "  box-sizing: border-box;\n",
       "  text-align: center;\n",
       "}\n",
       "\n",
       "#sk-container-id-7 label.sk-toggleable__label-arrow:before {\n",
       "  /* Arrow on the left of the label */\n",
       "  content: \"▸\";\n",
       "  float: left;\n",
       "  margin-right: 0.25em;\n",
       "  color: var(--sklearn-color-icon);\n",
       "}\n",
       "\n",
       "#sk-container-id-7 label.sk-toggleable__label-arrow:hover:before {\n",
       "  color: var(--sklearn-color-text);\n",
       "}\n",
       "\n",
       "/* Toggleable content - dropdown */\n",
       "\n",
       "#sk-container-id-7 div.sk-toggleable__content {\n",
       "  max-height: 0;\n",
       "  max-width: 0;\n",
       "  overflow: hidden;\n",
       "  text-align: left;\n",
       "  /* unfitted */\n",
       "  background-color: var(--sklearn-color-unfitted-level-0);\n",
       "}\n",
       "\n",
       "#sk-container-id-7 div.sk-toggleable__content.fitted {\n",
       "  /* fitted */\n",
       "  background-color: var(--sklearn-color-fitted-level-0);\n",
       "}\n",
       "\n",
       "#sk-container-id-7 div.sk-toggleable__content pre {\n",
       "  margin: 0.2em;\n",
       "  border-radius: 0.25em;\n",
       "  color: var(--sklearn-color-text);\n",
       "  /* unfitted */\n",
       "  background-color: var(--sklearn-color-unfitted-level-0);\n",
       "}\n",
       "\n",
       "#sk-container-id-7 div.sk-toggleable__content.fitted pre {\n",
       "  /* unfitted */\n",
       "  background-color: var(--sklearn-color-fitted-level-0);\n",
       "}\n",
       "\n",
       "#sk-container-id-7 input.sk-toggleable__control:checked~div.sk-toggleable__content {\n",
       "  /* Expand drop-down */\n",
       "  max-height: 200px;\n",
       "  max-width: 100%;\n",
       "  overflow: auto;\n",
       "}\n",
       "\n",
       "#sk-container-id-7 input.sk-toggleable__control:checked~label.sk-toggleable__label-arrow:before {\n",
       "  content: \"▾\";\n",
       "}\n",
       "\n",
       "/* Pipeline/ColumnTransformer-specific style */\n",
       "\n",
       "#sk-container-id-7 div.sk-label input.sk-toggleable__control:checked~label.sk-toggleable__label {\n",
       "  color: var(--sklearn-color-text);\n",
       "  background-color: var(--sklearn-color-unfitted-level-2);\n",
       "}\n",
       "\n",
       "#sk-container-id-7 div.sk-label.fitted input.sk-toggleable__control:checked~label.sk-toggleable__label {\n",
       "  background-color: var(--sklearn-color-fitted-level-2);\n",
       "}\n",
       "\n",
       "/* Estimator-specific style */\n",
       "\n",
       "/* Colorize estimator box */\n",
       "#sk-container-id-7 div.sk-estimator input.sk-toggleable__control:checked~label.sk-toggleable__label {\n",
       "  /* unfitted */\n",
       "  background-color: var(--sklearn-color-unfitted-level-2);\n",
       "}\n",
       "\n",
       "#sk-container-id-7 div.sk-estimator.fitted input.sk-toggleable__control:checked~label.sk-toggleable__label {\n",
       "  /* fitted */\n",
       "  background-color: var(--sklearn-color-fitted-level-2);\n",
       "}\n",
       "\n",
       "#sk-container-id-7 div.sk-label label.sk-toggleable__label,\n",
       "#sk-container-id-7 div.sk-label label {\n",
       "  /* The background is the default theme color */\n",
       "  color: var(--sklearn-color-text-on-default-background);\n",
       "}\n",
       "\n",
       "/* On hover, darken the color of the background */\n",
       "#sk-container-id-7 div.sk-label:hover label.sk-toggleable__label {\n",
       "  color: var(--sklearn-color-text);\n",
       "  background-color: var(--sklearn-color-unfitted-level-2);\n",
       "}\n",
       "\n",
       "/* Label box, darken color on hover, fitted */\n",
       "#sk-container-id-7 div.sk-label.fitted:hover label.sk-toggleable__label.fitted {\n",
       "  color: var(--sklearn-color-text);\n",
       "  background-color: var(--sklearn-color-fitted-level-2);\n",
       "}\n",
       "\n",
       "/* Estimator label */\n",
       "\n",
       "#sk-container-id-7 div.sk-label label {\n",
       "  font-family: monospace;\n",
       "  font-weight: bold;\n",
       "  display: inline-block;\n",
       "  line-height: 1.2em;\n",
       "}\n",
       "\n",
       "#sk-container-id-7 div.sk-label-container {\n",
       "  text-align: center;\n",
       "}\n",
       "\n",
       "/* Estimator-specific */\n",
       "#sk-container-id-7 div.sk-estimator {\n",
       "  font-family: monospace;\n",
       "  border: 1px dotted var(--sklearn-color-border-box);\n",
       "  border-radius: 0.25em;\n",
       "  box-sizing: border-box;\n",
       "  margin-bottom: 0.5em;\n",
       "  /* unfitted */\n",
       "  background-color: var(--sklearn-color-unfitted-level-0);\n",
       "}\n",
       "\n",
       "#sk-container-id-7 div.sk-estimator.fitted {\n",
       "  /* fitted */\n",
       "  background-color: var(--sklearn-color-fitted-level-0);\n",
       "}\n",
       "\n",
       "/* on hover */\n",
       "#sk-container-id-7 div.sk-estimator:hover {\n",
       "  /* unfitted */\n",
       "  background-color: var(--sklearn-color-unfitted-level-2);\n",
       "}\n",
       "\n",
       "#sk-container-id-7 div.sk-estimator.fitted:hover {\n",
       "  /* fitted */\n",
       "  background-color: var(--sklearn-color-fitted-level-2);\n",
       "}\n",
       "\n",
       "/* Specification for estimator info (e.g. \"i\" and \"?\") */\n",
       "\n",
       "/* Common style for \"i\" and \"?\" */\n",
       "\n",
       ".sk-estimator-doc-link,\n",
       "a:link.sk-estimator-doc-link,\n",
       "a:visited.sk-estimator-doc-link {\n",
       "  float: right;\n",
       "  font-size: smaller;\n",
       "  line-height: 1em;\n",
       "  font-family: monospace;\n",
       "  background-color: var(--sklearn-color-background);\n",
       "  border-radius: 1em;\n",
       "  height: 1em;\n",
       "  width: 1em;\n",
       "  text-decoration: none !important;\n",
       "  margin-left: 1ex;\n",
       "  /* unfitted */\n",
       "  border: var(--sklearn-color-unfitted-level-1) 1pt solid;\n",
       "  color: var(--sklearn-color-unfitted-level-1);\n",
       "}\n",
       "\n",
       ".sk-estimator-doc-link.fitted,\n",
       "a:link.sk-estimator-doc-link.fitted,\n",
       "a:visited.sk-estimator-doc-link.fitted {\n",
       "  /* fitted */\n",
       "  border: var(--sklearn-color-fitted-level-1) 1pt solid;\n",
       "  color: var(--sklearn-color-fitted-level-1);\n",
       "}\n",
       "\n",
       "/* On hover */\n",
       "div.sk-estimator:hover .sk-estimator-doc-link:hover,\n",
       ".sk-estimator-doc-link:hover,\n",
       "div.sk-label-container:hover .sk-estimator-doc-link:hover,\n",
       ".sk-estimator-doc-link:hover {\n",
       "  /* unfitted */\n",
       "  background-color: var(--sklearn-color-unfitted-level-3);\n",
       "  color: var(--sklearn-color-background);\n",
       "  text-decoration: none;\n",
       "}\n",
       "\n",
       "div.sk-estimator.fitted:hover .sk-estimator-doc-link.fitted:hover,\n",
       ".sk-estimator-doc-link.fitted:hover,\n",
       "div.sk-label-container:hover .sk-estimator-doc-link.fitted:hover,\n",
       ".sk-estimator-doc-link.fitted:hover {\n",
       "  /* fitted */\n",
       "  background-color: var(--sklearn-color-fitted-level-3);\n",
       "  color: var(--sklearn-color-background);\n",
       "  text-decoration: none;\n",
       "}\n",
       "\n",
       "/* Span, style for the box shown on hovering the info icon */\n",
       ".sk-estimator-doc-link span {\n",
       "  display: none;\n",
       "  z-index: 9999;\n",
       "  position: relative;\n",
       "  font-weight: normal;\n",
       "  right: .2ex;\n",
       "  padding: .5ex;\n",
       "  margin: .5ex;\n",
       "  width: min-content;\n",
       "  min-width: 20ex;\n",
       "  max-width: 50ex;\n",
       "  color: var(--sklearn-color-text);\n",
       "  box-shadow: 2pt 2pt 4pt #999;\n",
       "  /* unfitted */\n",
       "  background: var(--sklearn-color-unfitted-level-0);\n",
       "  border: .5pt solid var(--sklearn-color-unfitted-level-3);\n",
       "}\n",
       "\n",
       ".sk-estimator-doc-link.fitted span {\n",
       "  /* fitted */\n",
       "  background: var(--sklearn-color-fitted-level-0);\n",
       "  border: var(--sklearn-color-fitted-level-3);\n",
       "}\n",
       "\n",
       ".sk-estimator-doc-link:hover span {\n",
       "  display: block;\n",
       "}\n",
       "\n",
       "/* \"?\"-specific style due to the `<a>` HTML tag */\n",
       "\n",
       "#sk-container-id-7 a.estimator_doc_link {\n",
       "  float: right;\n",
       "  font-size: 1rem;\n",
       "  line-height: 1em;\n",
       "  font-family: monospace;\n",
       "  background-color: var(--sklearn-color-background);\n",
       "  border-radius: 1rem;\n",
       "  height: 1rem;\n",
       "  width: 1rem;\n",
       "  text-decoration: none;\n",
       "  /* unfitted */\n",
       "  color: var(--sklearn-color-unfitted-level-1);\n",
       "  border: var(--sklearn-color-unfitted-level-1) 1pt solid;\n",
       "}\n",
       "\n",
       "#sk-container-id-7 a.estimator_doc_link.fitted {\n",
       "  /* fitted */\n",
       "  border: var(--sklearn-color-fitted-level-1) 1pt solid;\n",
       "  color: var(--sklearn-color-fitted-level-1);\n",
       "}\n",
       "\n",
       "/* On hover */\n",
       "#sk-container-id-7 a.estimator_doc_link:hover {\n",
       "  /* unfitted */\n",
       "  background-color: var(--sklearn-color-unfitted-level-3);\n",
       "  color: var(--sklearn-color-background);\n",
       "  text-decoration: none;\n",
       "}\n",
       "\n",
       "#sk-container-id-7 a.estimator_doc_link.fitted:hover {\n",
       "  /* fitted */\n",
       "  background-color: var(--sklearn-color-fitted-level-3);\n",
       "}\n",
       "</style><div id=\"sk-container-id-7\" class=\"sk-top-container\"><div class=\"sk-text-repr-fallback\"><pre>KNeighborsClassifier(n_neighbors=38)</pre><b>In a Jupyter environment, please rerun this cell to show the HTML representation or trust the notebook. <br />On GitHub, the HTML representation is unable to render, please try loading this page with nbviewer.org.</b></div><div class=\"sk-container\" hidden><div class=\"sk-item\"><div class=\"sk-estimator fitted sk-toggleable\"><input class=\"sk-toggleable__control sk-hidden--visually\" id=\"sk-estimator-id-7\" type=\"checkbox\" checked><label for=\"sk-estimator-id-7\" class=\"sk-toggleable__label fitted sk-toggleable__label-arrow fitted\">&nbsp;&nbsp;KNeighborsClassifier<a class=\"sk-estimator-doc-link fitted\" rel=\"noreferrer\" target=\"_blank\" href=\"https://scikit-learn.org/1.4/modules/generated/sklearn.neighbors.KNeighborsClassifier.html\">?<span>Documentation for KNeighborsClassifier</span></a><span class=\"sk-estimator-doc-link fitted\">i<span>Fitted</span></span></label><div class=\"sk-toggleable__content fitted\"><pre>KNeighborsClassifier(n_neighbors=38)</pre></div> </div></div></div></div>"
      ],
      "text/plain": [
       "KNeighborsClassifier(n_neighbors=38)"
      ]
     },
     "execution_count": 321,
     "metadata": {},
     "output_type": "execute_result"
    }
   ],
   "source": [
    "knn.fit(Xtrain, ytrain)"
   ]
  },
  {
   "cell_type": "code",
   "execution_count": 322,
   "id": "52138742-3a3f-410b-ab19-7aac5efbb327",
   "metadata": {},
   "outputs": [
    {
     "name": "stdout",
     "output_type": "stream",
     "text": [
      "0.8365625\n"
     ]
    }
   ],
   "source": [
    "print(knn.score(Xtrain, ytrain))"
   ]
  },
  {
   "cell_type": "code",
   "execution_count": 323,
   "id": "032b3dc5-7527-44a4-9071-99dd5b9181a2",
   "metadata": {},
   "outputs": [
    {
     "name": "stdout",
     "output_type": "stream",
     "text": [
      "Accuracy = 0.84\n"
     ]
    },
    {
     "data": {
      "text/plain": [
       "(Predicted   Blackboard  Google  Weather  Wikipedia\n",
       " Actual                                            \n",
       " Blackboard        1298       0       34        277\n",
       " Google               0    1622        0          1\n",
       " Weather             94       0     1269        235\n",
       " Wikipedia          193       0      212       1165,\n",
       " 0.8365625)"
      ]
     },
     "execution_count": 323,
     "metadata": {},
     "output_type": "execute_result"
    }
   ],
   "source": [
    "compare_classes(ytrain, knn.predict(Xtrain))"
   ]
  },
  {
   "cell_type": "code",
   "execution_count": 324,
   "id": "7967b16e-52b4-4839-bf16-28c41fa7993a",
   "metadata": {},
   "outputs": [
    {
     "name": "stdout",
     "output_type": "stream",
     "text": [
      "0.804375\n"
     ]
    }
   ],
   "source": [
    "print(knn.score(Xtest, ytest))"
   ]
  },
  {
   "cell_type": "code",
   "execution_count": 325,
   "id": "cb5520f5-edfb-4319-a554-12dafcb4dc61",
   "metadata": {},
   "outputs": [
    {
     "name": "stdout",
     "output_type": "stream",
     "text": [
      "Accuracy = 0.80\n"
     ]
    },
    {
     "data": {
      "text/plain": [
       "(Predicted   Blackboard  Google  Weather  Wikipedia\n",
       " Actual                                            \n",
       " Blackboard         301       0       13         77\n",
       " Google               0     377        0          0\n",
       " Weather             25       0      304         73\n",
       " Wikipedia           51       0       74        305,\n",
       " 0.804375)"
      ]
     },
     "execution_count": 325,
     "metadata": {},
     "output_type": "execute_result"
    }
   ],
   "source": [
    "compare_classes(ytest, knn.predict(Xtest))"
   ]
  },
  {
   "cell_type": "code",
   "execution_count": 326,
   "id": "372b9177-22ce-4c7b-a1ee-c953a6d029ef",
   "metadata": {},
   "outputs": [],
   "source": [
    "from sklearn.manifold import TSNE"
   ]
  },
  {
   "cell_type": "code",
   "execution_count": 327,
   "id": "eb813830-7ea8-4c75-a969-7297af9c06ed",
   "metadata": {},
   "outputs": [],
   "source": [
    "from sklearn.decomposition import PCA"
   ]
  },
  {
   "cell_type": "code",
   "execution_count": 328,
   "id": "b825baf6-c834-428e-8041-d1cfebf3ef2d",
   "metadata": {},
   "outputs": [],
   "source": [
    "pca = PCA()"
   ]
  },
  {
   "cell_type": "code",
   "execution_count": 329,
   "id": "cd1a6f3d-ef7e-47f2-ad56-ada54bc19a7e",
   "metadata": {},
   "outputs": [],
   "source": [
    "pca_digits = pca.fit_transform(Xtrain)"
   ]
  },
  {
   "cell_type": "code",
   "execution_count": 330,
   "id": "9a86a229-f051-4769-8bf4-878f7446ad9b",
   "metadata": {},
   "outputs": [
    {
     "data": {
      "text/plain": [
       "array([0.4006265, 0.3385107, 0.2608628])"
      ]
     },
     "execution_count": 330,
     "metadata": {},
     "output_type": "execute_result"
    }
   ],
   "source": [
    "pca.explained_variance_ratio_"
   ]
  },
  {
   "cell_type": "code",
   "execution_count": 331,
   "id": "19483398-5238-4356-a123-bae708438202",
   "metadata": {},
   "outputs": [],
   "source": [
    "pca_df = pd.DataFrame(pca_digits, columns = ['PC'+str(i) for i in range(1,len(pca_digits[0])+1)])\n",
    "pca_df['target'] = ytrain"
   ]
  },
  {
   "cell_type": "code",
   "execution_count": 332,
   "id": "9c72a48d-0cda-4fd0-b46e-e99d3e71096b",
   "metadata": {},
   "outputs": [
    {
     "data": {
      "image/png": "[encoded data removed]",
      "text/plain": [
       "<Figure size 800x800 with 1 Axes>"
      ]
     },
     "metadata": {},
     "output_type": "display_data"
    }
   ],
   "source": [
    "plt.figure(figsize = [8,8])\n",
    "colors = ['cornflowerblue','violet','forestgreen','firebrick']\n",
    "sns.scatterplot(data = pca_df, x = 'PC1',y = 'PC2', hue = ytrain, palette = colors, alpha = 0.8)\n",
    "plt.legend(bbox_to_anchor = [1,0.75], title = 'Website', frameon = False, fontsize = 14,\n",
    "          title_fontsize = 16)\n",
    "plt.xlabel('PC1', fontsize = 14)\n",
    "plt.ylabel('PC2', fontsize = 14)\n",
    "plt.xticks([])\n",
    "plt.yticks([])\n",
    "plt.show()"
   ]
  },
  {
   "cell_type": "code",
   "execution_count": 333,
   "id": "e199aefd-a2ca-42cf-ac3a-368399ccbfa4",
   "metadata": {},
   "outputs": [],
   "source": [
    "tsne = TSNE(random_state = 43, perplexity = 40)"
   ]
  },
  {
   "cell_type": "code",
   "execution_count": 334,
   "id": "f290462d-170c-4498-8091-bfac694bc09c",
   "metadata": {},
   "outputs": [],
   "source": [
    "tsne_digits = tsne.fit_transform(Xtrain)"
   ]
  },
  {
   "cell_type": "code",
   "execution_count": 335,
   "id": "b450e83d-ea24-4541-af41-194a446902f2",
   "metadata": {},
   "outputs": [],
   "source": [
    "tsne_df = pd.DataFrame(tsne_digits, columns = ['TSNE1','TSNE2'])\n",
    "tsne_df['target'] = ytrain"
   ]
  },
  {
   "cell_type": "code",
   "execution_count": 336,
   "id": "f045e4d8-2d78-46d1-94a3-0df263195192",
   "metadata": {},
   "outputs": [
    {
     "data": {
      "image/png": "[encoded data removed]",
      "text/plain": [
       "<Figure size 800x800 with 1 Axes>"
      ]
     },
     "metadata": {},
     "output_type": "display_data"
    }
   ],
   "source": [
    "plt.figure(figsize = [8,8])\n",
    "colors = ['cornflowerblue', 'violet','forestgreen','firebrick']\n",
    "sns.scatterplot(data = tsne_df, x = 'TSNE1',y = 'TSNE2', hue = ytrain, palette = colors, alpha = 0.8)\n",
    "plt.legend(bbox_to_anchor = [1,0.75], title = 'Website', frameon = False, fontsize = 14,\n",
    "          title_fontsize = 16)\n",
    "plt.xlabel('TSNE1', fontsize = 14)\n",
    "plt.ylabel('TSNE2', fontsize = 14)\n",
    "plt.xticks([])\n",
    "plt.yticks([])\n",
    "plt.show()"
   ]
  },
  {
   "cell_type": "code",
   "execution_count": 337,
   "id": "9500b646-658f-4abb-ac5d-4598e023289e",
   "metadata": {},
   "outputs": [
    {
     "data": {
      "text/html": [
       "<style>#sk-container-id-8 {\n",
       "  /* Definition of color scheme common for light and dark mode */\n",
       "  --sklearn-color-text: black;\n",
       "  --sklearn-color-line: gray;\n",
       "  /* Definition of color scheme for unfitted estimators */\n",
       "  --sklearn-color-unfitted-level-0: #fff5e6;\n",
       "  --sklearn-color-unfitted-level-1: #f6e4d2;\n",
       "  --sklearn-color-unfitted-level-2: #ffe0b3;\n",
       "  --sklearn-color-unfitted-level-3: chocolate;\n",
       "  /* Definition of color scheme for fitted estimators */\n",
       "  --sklearn-color-fitted-level-0: #f0f8ff;\n",
       "  --sklearn-color-fitted-level-1: #d4ebff;\n",
       "  --sklearn-color-fitted-level-2: #b3dbfd;\n",
       "  --sklearn-color-fitted-level-3: cornflowerblue;\n",
       "\n",
       "  /* Specific color for light theme */\n",
       "  --sklearn-color-text-on-default-background: var(--sg-text-color, var(--theme-code-foreground, var(--jp-content-font-color1, black)));\n",
       "  --sklearn-color-background: var(--sg-background-color, var(--theme-background, var(--jp-layout-color0, white)));\n",
       "  --sklearn-color-border-box: var(--sg-text-color, var(--theme-code-foreground, var(--jp-content-font-color1, black)));\n",
       "  --sklearn-color-icon: #696969;\n",
       "\n",
       "  @media (prefers-color-scheme: dark) {\n",
       "    /* Redefinition of color scheme for dark theme */\n",
       "    --sklearn-color-text-on-default-background: var(--sg-text-color, var(--theme-code-foreground, var(--jp-content-font-color1, white)));\n",
       "    --sklearn-color-background: var(--sg-background-color, var(--theme-background, var(--jp-layout-color0, #111)));\n",
       "    --sklearn-color-border-box: var(--sg-text-color, var(--theme-code-foreground, var(--jp-content-font-color1, white)));\n",
       "    --sklearn-color-icon: #878787;\n",
       "  }\n",
       "}\n",
       "\n",
       "#sk-container-id-8 {\n",
       "  color: var(--sklearn-color-text);\n",
       "}\n",
       "\n",
       "#sk-container-id-8 pre {\n",
       "  padding: 0;\n",
       "}\n",
       "\n",
       "#sk-container-id-8 input.sk-hidden--visually {\n",
       "  border: 0;\n",
       "  clip: rect(1px 1px 1px 1px);\n",
       "  clip: rect(1px, 1px, 1px, 1px);\n",
       "  height: 1px;\n",
       "  margin: -1px;\n",
       "  overflow: hidden;\n",
       "  padding: 0;\n",
       "  position: absolute;\n",
       "  width: 1px;\n",
       "}\n",
       "\n",
       "#sk-container-id-8 div.sk-dashed-wrapped {\n",
       "  border: 1px dashed var(--sklearn-color-line);\n",
       "  margin: 0 0.4em 0.5em 0.4em;\n",
       "  box-sizing: border-box;\n",
       "  padding-bottom: 0.4em;\n",
       "  background-color: var(--sklearn-color-background);\n",
       "}\n",
       "\n",
       "#sk-container-id-8 div.sk-container {\n",
       "  /* jupyter's `normalize.less` sets `[hidden] { display: none; }`\n",
       "     but bootstrap.min.css set `[hidden] { display: none !important; }`\n",
       "     so we also need the `!important` here to be able to override the\n",
       "     default hidden behavior on the sphinx rendered scikit-learn.org.\n",
       "     See: https://github.com/scikit-learn/scikit-learn/issues/21755 */\n",
       "  display: inline-block !important;\n",
       "  position: relative;\n",
       "}\n",
       "\n",
       "#sk-container-id-8 div.sk-text-repr-fallback {\n",
       "  display: none;\n",
       "}\n",
       "\n",
       "div.sk-parallel-item,\n",
       "div.sk-serial,\n",
       "div.sk-item {\n",
       "  /* draw centered vertical line to link estimators */\n",
       "  background-image: linear-gradient(var(--sklearn-color-text-on-default-background), var(--sklearn-color-text-on-default-background));\n",
       "  background-size: 2px 100%;\n",
       "  background-repeat: no-repeat;\n",
       "  background-position: center center;\n",
       "}\n",
       "\n",
       "/* Parallel-specific style estimator block */\n",
       "\n",
       "#sk-container-id-8 div.sk-parallel-item::after {\n",
       "  content: \"\";\n",
       "  width: 100%;\n",
       "  border-bottom: 2px solid var(--sklearn-color-text-on-default-background);\n",
       "  flex-grow: 1;\n",
       "}\n",
       "\n",
       "#sk-container-id-8 div.sk-parallel {\n",
       "  display: flex;\n",
       "  align-items: stretch;\n",
       "  justify-content: center;\n",
       "  background-color: var(--sklearn-color-background);\n",
       "  position: relative;\n",
       "}\n",
       "\n",
       "#sk-container-id-8 div.sk-parallel-item {\n",
       "  display: flex;\n",
       "  flex-direction: column;\n",
       "}\n",
       "\n",
       "#sk-container-id-8 div.sk-parallel-item:first-child::after {\n",
       "  align-self: flex-end;\n",
       "  width: 50%;\n",
       "}\n",
       "\n",
       "#sk-container-id-8 div.sk-parallel-item:last-child::after {\n",
       "  align-self: flex-start;\n",
       "  width: 50%;\n",
       "}\n",
       "\n",
       "#sk-container-id-8 div.sk-parallel-item:only-child::after {\n",
       "  width: 0;\n",
       "}\n",
       "\n",
       "/* Serial-specific style estimator block */\n",
       "\n",
       "#sk-container-id-8 div.sk-serial {\n",
       "  display: flex;\n",
       "  flex-direction: column;\n",
       "  align-items: center;\n",
       "  background-color: var(--sklearn-color-background);\n",
       "  padding-right: 1em;\n",
       "  padding-left: 1em;\n",
       "}\n",
       "\n",
       "\n",
       "/* Toggleable style: style used for estimator/Pipeline/ColumnTransformer box that is\n",
       "clickable and can be expanded/collapsed.\n",
       "- Pipeline and ColumnTransformer use this feature and define the default style\n",
       "- Estimators will overwrite some part of the style using the `sk-estimator` class\n",
       "*/\n",
       "\n",
       "/* Pipeline and ColumnTransformer style (default) */\n",
       "\n",
       "#sk-container-id-8 div.sk-toggleable {\n",
       "  /* Default theme specific background. It is overwritten whether we have a\n",
       "  specific estimator or a Pipeline/ColumnTransformer */\n",
       "  background-color: var(--sklearn-color-background);\n",
       "}\n",
       "\n",
       "/* Toggleable label */\n",
       "#sk-container-id-8 label.sk-toggleable__label {\n",
       "  cursor: pointer;\n",
       "  display: block;\n",
       "  width: 100%;\n",
       "  margin-bottom: 0;\n",
       "  padding: 0.5em;\n",
       "  box-sizing: border-box;\n",
       "  text-align: center;\n",
       "}\n",
       "\n",
       "#sk-container-id-8 label.sk-toggleable__label-arrow:before {\n",
       "  /* Arrow on the left of the label */\n",
       "  content: \"▸\";\n",
       "  float: left;\n",
       "  margin-right: 0.25em;\n",
       "  color: var(--sklearn-color-icon);\n",
       "}\n",
       "\n",
       "#sk-container-id-8 label.sk-toggleable__label-arrow:hover:before {\n",
       "  color: var(--sklearn-color-text);\n",
       "}\n",
       "\n",
       "/* Toggleable content - dropdown */\n",
       "\n",
       "#sk-container-id-8 div.sk-toggleable__content {\n",
       "  max-height: 0;\n",
       "  max-width: 0;\n",
       "  overflow: hidden;\n",
       "  text-align: left;\n",
       "  /* unfitted */\n",
       "  background-color: var(--sklearn-color-unfitted-level-0);\n",
       "}\n",
       "\n",
       "#sk-container-id-8 div.sk-toggleable__content.fitted {\n",
       "  /* fitted */\n",
       "  background-color: var(--sklearn-color-fitted-level-0);\n",
       "}\n",
       "\n",
       "#sk-container-id-8 div.sk-toggleable__content pre {\n",
       "  margin: 0.2em;\n",
       "  border-radius: 0.25em;\n",
       "  color: var(--sklearn-color-text);\n",
       "  /* unfitted */\n",
       "  background-color: var(--sklearn-color-unfitted-level-0);\n",
       "}\n",
       "\n",
       "#sk-container-id-8 div.sk-toggleable__content.fitted pre {\n",
       "  /* unfitted */\n",
       "  background-color: var(--sklearn-color-fitted-level-0);\n",
       "}\n",
       "\n",
       "#sk-container-id-8 input.sk-toggleable__control:checked~div.sk-toggleable__content {\n",
       "  /* Expand drop-down */\n",
       "  max-height: 200px;\n",
       "  max-width: 100%;\n",
       "  overflow: auto;\n",
       "}\n",
       "\n",
       "#sk-container-id-8 input.sk-toggleable__control:checked~label.sk-toggleable__label-arrow:before {\n",
       "  content: \"▾\";\n",
       "}\n",
       "\n",
       "/* Pipeline/ColumnTransformer-specific style */\n",
       "\n",
       "#sk-container-id-8 div.sk-label input.sk-toggleable__control:checked~label.sk-toggleable__label {\n",
       "  color: var(--sklearn-color-text);\n",
       "  background-color: var(--sklearn-color-unfitted-level-2);\n",
       "}\n",
       "\n",
       "#sk-container-id-8 div.sk-label.fitted input.sk-toggleable__control:checked~label.sk-toggleable__label {\n",
       "  background-color: var(--sklearn-color-fitted-level-2);\n",
       "}\n",
       "\n",
       "/* Estimator-specific style */\n",
       "\n",
       "/* Colorize estimator box */\n",
       "#sk-container-id-8 div.sk-estimator input.sk-toggleable__control:checked~label.sk-toggleable__label {\n",
       "  /* unfitted */\n",
       "  background-color: var(--sklearn-color-unfitted-level-2);\n",
       "}\n",
       "\n",
       "#sk-container-id-8 div.sk-estimator.fitted input.sk-toggleable__control:checked~label.sk-toggleable__label {\n",
       "  /* fitted */\n",
       "  background-color: var(--sklearn-color-fitted-level-2);\n",
       "}\n",
       "\n",
       "#sk-container-id-8 div.sk-label label.sk-toggleable__label,\n",
       "#sk-container-id-8 div.sk-label label {\n",
       "  /* The background is the default theme color */\n",
       "  color: var(--sklearn-color-text-on-default-background);\n",
       "}\n",
       "\n",
       "/* On hover, darken the color of the background */\n",
       "#sk-container-id-8 div.sk-label:hover label.sk-toggleable__label {\n",
       "  color: var(--sklearn-color-text);\n",
       "  background-color: var(--sklearn-color-unfitted-level-2);\n",
       "}\n",
       "\n",
       "/* Label box, darken color on hover, fitted */\n",
       "#sk-container-id-8 div.sk-label.fitted:hover label.sk-toggleable__label.fitted {\n",
       "  color: var(--sklearn-color-text);\n",
       "  background-color: var(--sklearn-color-fitted-level-2);\n",
       "}\n",
       "\n",
       "/* Estimator label */\n",
       "\n",
       "#sk-container-id-8 div.sk-label label {\n",
       "  font-family: monospace;\n",
       "  font-weight: bold;\n",
       "  display: inline-block;\n",
       "  line-height: 1.2em;\n",
       "}\n",
       "\n",
       "#sk-container-id-8 div.sk-label-container {\n",
       "  text-align: center;\n",
       "}\n",
       "\n",
       "/* Estimator-specific */\n",
       "#sk-container-id-8 div.sk-estimator {\n",
       "  font-family: monospace;\n",
       "  border: 1px dotted var(--sklearn-color-border-box);\n",
       "  border-radius: 0.25em;\n",
       "  box-sizing: border-box;\n",
       "  margin-bottom: 0.5em;\n",
       "  /* unfitted */\n",
       "  background-color: var(--sklearn-color-unfitted-level-0);\n",
       "}\n",
       "\n",
       "#sk-container-id-8 div.sk-estimator.fitted {\n",
       "  /* fitted */\n",
       "  background-color: var(--sklearn-color-fitted-level-0);\n",
       "}\n",
       "\n",
       "/* on hover */\n",
       "#sk-container-id-8 div.sk-estimator:hover {\n",
       "  /* unfitted */\n",
       "  background-color: var(--sklearn-color-unfitted-level-2);\n",
       "}\n",
       "\n",
       "#sk-container-id-8 div.sk-estimator.fitted:hover {\n",
       "  /* fitted */\n",
       "  background-color: var(--sklearn-color-fitted-level-2);\n",
       "}\n",
       "\n",
       "/* Specification for estimator info (e.g. \"i\" and \"?\") */\n",
       "\n",
       "/* Common style for \"i\" and \"?\" */\n",
       "\n",
       ".sk-estimator-doc-link,\n",
       "a:link.sk-estimator-doc-link,\n",
       "a:visited.sk-estimator-doc-link {\n",
       "  float: right;\n",
       "  font-size: smaller;\n",
       "  line-height: 1em;\n",
       "  font-family: monospace;\n",
       "  background-color: var(--sklearn-color-background);\n",
       "  border-radius: 1em;\n",
       "  height: 1em;\n",
       "  width: 1em;\n",
       "  text-decoration: none !important;\n",
       "  margin-left: 1ex;\n",
       "  /* unfitted */\n",
       "  border: var(--sklearn-color-unfitted-level-1) 1pt solid;\n",
       "  color: var(--sklearn-color-unfitted-level-1);\n",
       "}\n",
       "\n",
       ".sk-estimator-doc-link.fitted,\n",
       "a:link.sk-estimator-doc-link.fitted,\n",
       "a:visited.sk-estimator-doc-link.fitted {\n",
       "  /* fitted */\n",
       "  border: var(--sklearn-color-fitted-level-1) 1pt solid;\n",
       "  color: var(--sklearn-color-fitted-level-1);\n",
       "}\n",
       "\n",
       "/* On hover */\n",
       "div.sk-estimator:hover .sk-estimator-doc-link:hover,\n",
       ".sk-estimator-doc-link:hover,\n",
       "div.sk-label-container:hover .sk-estimator-doc-link:hover,\n",
       ".sk-estimator-doc-link:hover {\n",
       "  /* unfitted */\n",
       "  background-color: var(--sklearn-color-unfitted-level-3);\n",
       "  color: var(--sklearn-color-background);\n",
       "  text-decoration: none;\n",
       "}\n",
       "\n",
       "div.sk-estimator.fitted:hover .sk-estimator-doc-link.fitted:hover,\n",
       ".sk-estimator-doc-link.fitted:hover,\n",
       "div.sk-label-container:hover .sk-estimator-doc-link.fitted:hover,\n",
       ".sk-estimator-doc-link.fitted:hover {\n",
       "  /* fitted */\n",
       "  background-color: var(--sklearn-color-fitted-level-3);\n",
       "  color: var(--sklearn-color-background);\n",
       "  text-decoration: none;\n",
       "}\n",
       "\n",
       "/* Span, style for the box shown on hovering the info icon */\n",
       ".sk-estimator-doc-link span {\n",
       "  display: none;\n",
       "  z-index: 9999;\n",
       "  position: relative;\n",
       "  font-weight: normal;\n",
       "  right: .2ex;\n",
       "  padding: .5ex;\n",
       "  margin: .5ex;\n",
       "  width: min-content;\n",
       "  min-width: 20ex;\n",
       "  max-width: 50ex;\n",
       "  color: var(--sklearn-color-text);\n",
       "  box-shadow: 2pt 2pt 4pt #999;\n",
       "  /* unfitted */\n",
       "  background: var(--sklearn-color-unfitted-level-0);\n",
       "  border: .5pt solid var(--sklearn-color-unfitted-level-3);\n",
       "}\n",
       "\n",
       ".sk-estimator-doc-link.fitted span {\n",
       "  /* fitted */\n",
       "  background: var(--sklearn-color-fitted-level-0);\n",
       "  border: var(--sklearn-color-fitted-level-3);\n",
       "}\n",
       "\n",
       ".sk-estimator-doc-link:hover span {\n",
       "  display: block;\n",
       "}\n",
       "\n",
       "/* \"?\"-specific style due to the `<a>` HTML tag */\n",
       "\n",
       "#sk-container-id-8 a.estimator_doc_link {\n",
       "  float: right;\n",
       "  font-size: 1rem;\n",
       "  line-height: 1em;\n",
       "  font-family: monospace;\n",
       "  background-color: var(--sklearn-color-background);\n",
       "  border-radius: 1rem;\n",
       "  height: 1rem;\n",
       "  width: 1rem;\n",
       "  text-decoration: none;\n",
       "  /* unfitted */\n",
       "  color: var(--sklearn-color-unfitted-level-1);\n",
       "  border: var(--sklearn-color-unfitted-level-1) 1pt solid;\n",
       "}\n",
       "\n",
       "#sk-container-id-8 a.estimator_doc_link.fitted {\n",
       "  /* fitted */\n",
       "  border: var(--sklearn-color-fitted-level-1) 1pt solid;\n",
       "  color: var(--sklearn-color-fitted-level-1);\n",
       "}\n",
       "\n",
       "/* On hover */\n",
       "#sk-container-id-8 a.estimator_doc_link:hover {\n",
       "  /* unfitted */\n",
       "  background-color: var(--sklearn-color-unfitted-level-3);\n",
       "  color: var(--sklearn-color-background);\n",
       "  text-decoration: none;\n",
       "}\n",
       "\n",
       "#sk-container-id-8 a.estimator_doc_link.fitted:hover {\n",
       "  /* fitted */\n",
       "  background-color: var(--sklearn-color-fitted-level-3);\n",
       "}\n",
       "</style><div id=\"sk-container-id-8\" class=\"sk-top-container\"><div class=\"sk-text-repr-fallback\"><pre>LogisticRegression()</pre><b>In a Jupyter environment, please rerun this cell to show the HTML representation or trust the notebook. <br />On GitHub, the HTML representation is unable to render, please try loading this page with nbviewer.org.</b></div><div class=\"sk-container\" hidden><div class=\"sk-item\"><div class=\"sk-estimator fitted sk-toggleable\"><input class=\"sk-toggleable__control sk-hidden--visually\" id=\"sk-estimator-id-8\" type=\"checkbox\" checked><label for=\"sk-estimator-id-8\" class=\"sk-toggleable__label fitted sk-toggleable__label-arrow fitted\">&nbsp;&nbsp;LogisticRegression<a class=\"sk-estimator-doc-link fitted\" rel=\"noreferrer\" target=\"_blank\" href=\"https://scikit-learn.org/1.4/modules/generated/sklearn.linear_model.LogisticRegression.html\">?<span>Documentation for LogisticRegression</span></a><span class=\"sk-estimator-doc-link fitted\">i<span>Fitted</span></span></label><div class=\"sk-toggleable__content fitted\"><pre>LogisticRegression()</pre></div> </div></div></div></div>"
      ],
      "text/plain": [
       "LogisticRegression()"
      ]
     },
     "execution_count": 337,
     "metadata": {},
     "output_type": "execute_result"
    }
   ],
   "source": [
    "log_reg = LR()\n",
    "log_reg.fit(Xtrain,ytrain)"
   ]
  },
  {
   "cell_type": "code",
   "execution_count": 338,
   "id": "5df0ec5d-2e7b-45d2-bff3-841e3a31c035",
   "metadata": {},
   "outputs": [
    {
     "name": "stdout",
     "output_type": "stream",
     "text": [
      "0.49375\n"
     ]
    }
   ],
   "source": [
    "print(log_reg.score(Xtest, ytest))"
   ]
  },
  {
   "cell_type": "code",
   "execution_count": 339,
   "id": "1e4dd0bb-de09-4d54-8461-fdd45468c892",
   "metadata": {},
   "outputs": [
    {
     "name": "stdout",
     "output_type": "stream",
     "text": [
      "0.509375\n"
     ]
    }
   ],
   "source": [
    "print(log_reg.score(Xtrain, ytrain))"
   ]
  },
  {
   "cell_type": "code",
   "execution_count": 340,
   "id": "d5d35638-7353-4851-b4be-5a27f307c574",
   "metadata": {},
   "outputs": [
    {
     "name": "stdout",
     "output_type": "stream",
     "text": [
      "Accuracy = 0.49\n"
     ]
    },
    {
     "data": {
      "text/plain": [
       "(Predicted   Blackboard  Google  Weather  Wikipedia\n",
       " Actual                                            \n",
       " Blackboard         155       0      225         11\n",
       " Google               0     377        0          0\n",
       " Weather            175       0      220          7\n",
       " Wikipedia          145       0      247         38,\n",
       " 0.49375)"
      ]
     },
     "execution_count": 340,
     "metadata": {},
     "output_type": "execute_result"
    }
   ],
   "source": [
    "y_pred = log_reg.predict(Xtest)\n",
    "\n",
    "# Look at the confusion matrix\n",
    "compare_classes(ytest, y_pred)"
   ]
  },
  {
   "cell_type": "code",
   "execution_count": 341,
   "id": "77dcbc71-5d79-4726-b276-c1faba8b8a84",
   "metadata": {},
   "outputs": [],
   "source": [
    "wikipediaV = pd.read_csv('data/wikipedia_validation.csv', sep = ',')\n"
   ]
  },
  {
   "cell_type": "code",
   "execution_count": 342,
   "id": "7fbaa9ce-c880-406d-b009-3e0376c841ea",
   "metadata": {},
   "outputs": [],
   "source": [
    "googleV = pd.read_csv('data/google_validation.csv', sep = ',')\n"
   ]
  },
  {
   "cell_type": "code",
   "execution_count": 343,
   "id": "1d940e62-5d66-4c1a-9499-80ea21afce8a",
   "metadata": {},
   "outputs": [],
   "source": [
    "blackboardV = pd.read_csv('data/blackboard_validation.csv', sep = ',')\n"
   ]
  },
  {
   "cell_type": "code",
   "execution_count": 344,
   "id": "a5818c58-49ad-47c0-948b-911f912e35eb",
   "metadata": {},
   "outputs": [],
   "source": [
    "weatherV = pd.read_csv('data/weather_validation.csv', sep = ',')\n"
   ]
  },
  {
   "cell_type": "code",
   "execution_count": 345,
   "id": "acc0f80a-c630-4f06-b6eb-03432f96ec40",
   "metadata": {},
   "outputs": [
    {
     "data": {
      "text/plain": [
       "(9749, 10)"
      ]
     },
     "execution_count": 345,
     "metadata": {},
     "output_type": "execute_result"
    }
   ],
   "source": [
    "frames = [wikipediaV, googleV, blackboardV, weatherV]\n",
    "data2 = pd.concat(frames)\n",
    "data2.shape"
   ]
  },
  {
   "cell_type": "code",
   "execution_count": 346,
   "id": "85ccfe9a-c578-4f29-9c1a-71b42d87971b",
   "metadata": {},
   "outputs": [],
   "source": [
    "X_df2 = data2.drop(columns = ['Source','Destination', 'Info', 'Time_Between', 'Website', 'Time', 'No.'])"
   ]
  },
  {
   "cell_type": "code",
   "execution_count": 347,
   "id": "734ae814-4e7d-49c6-b421-46e4ad260978",
   "metadata": {},
   "outputs": [
    {
     "name": "stderr",
     "output_type": "stream",
     "text": [
      "/tmp/ipykernel_245/3162678955.py:1: FutureWarning: Downcasting behavior in `replace` is deprecated and will be removed in a future version. To retain the old behavior, explicitly call `result.infer_objects(copy=False)`. To opt-in to the future behavior, set `pd.set_option('future.no_silent_downcasting', True)`\n",
      "  X_df3 = X_df2.replace(['TLSv1.2', 'TLSv1.3', 'TCP', 'QUIC'], [0, 1, 2, 3])\n"
     ]
    }
   ],
   "source": [
    "X_df3 = X_df2.replace(['TLSv1.2', 'TLSv1.3', 'TCP', 'QUIC'], [0, 1, 2, 3])"
   ]
  },
  {
   "cell_type": "code",
   "execution_count": 348,
   "id": "29a5eb78-5ecd-497f-ab3b-f16ac9efdc52",
   "metadata": {},
   "outputs": [
    {
     "data": {
      "text/plain": [
       "array([0, 2, 3, 1])"
      ]
     },
     "execution_count": 348,
     "metadata": {},
     "output_type": "execute_result"
    }
   ],
   "source": [
    "X_df3['Protocol'].unique()"
   ]
  },
  {
   "cell_type": "code",
   "execution_count": 349,
   "id": "6046ddf1-75f5-4110-9f67-27b774ca1227",
   "metadata": {},
   "outputs": [
    {
     "data": {
      "text/html": [
       "<div>\n",
       "<style scoped>\n",
       "    .dataframe tbody tr th:only-of-type {\n",
       "        vertical-align: middle;\n",
       "    }\n",
       "\n",
       "    .dataframe tbody tr th {\n",
       "        vertical-align: top;\n",
       "    }\n",
       "\n",
       "    .dataframe thead th {\n",
       "        text-align: right;\n",
       "    }\n",
       "</style>\n",
       "<table border=\"1\" class=\"dataframe\">\n",
       "  <thead>\n",
       "    <tr style=\"text-align: right;\">\n",
       "      <th></th>\n",
       "      <th>Protocol</th>\n",
       "      <th>Length</th>\n",
       "      <th>Ttruncated</th>\n",
       "    </tr>\n",
       "  </thead>\n",
       "  <tbody>\n",
       "    <tr>\n",
       "      <th>0</th>\n",
       "      <td>0</td>\n",
       "      <td>173</td>\n",
       "      <td>0.000000</td>\n",
       "    </tr>\n",
       "    <tr>\n",
       "      <th>1</th>\n",
       "      <td>0</td>\n",
       "      <td>113</td>\n",
       "      <td>0.000059</td>\n",
       "    </tr>\n",
       "    <tr>\n",
       "      <th>2</th>\n",
       "      <td>2</td>\n",
       "      <td>74</td>\n",
       "      <td>0.022886</td>\n",
       "    </tr>\n",
       "    <tr>\n",
       "      <th>3</th>\n",
       "      <td>0</td>\n",
       "      <td>113</td>\n",
       "      <td>0.000000</td>\n",
       "    </tr>\n",
       "    <tr>\n",
       "      <th>4</th>\n",
       "      <td>2</td>\n",
       "      <td>1514</td>\n",
       "      <td>0.000396</td>\n",
       "    </tr>\n",
       "  </tbody>\n",
       "</table>\n",
       "</div>"
      ],
      "text/plain": [
       "   Protocol  Length  Ttruncated\n",
       "0         0     173    0.000000\n",
       "1         0     113    0.000059\n",
       "2         2      74    0.022886\n",
       "3         0     113    0.000000\n",
       "4         2    1514    0.000396"
      ]
     },
     "execution_count": 349,
     "metadata": {},
     "output_type": "execute_result"
    }
   ],
   "source": [
    "X_df3.head()"
   ]
  },
  {
   "cell_type": "code",
   "execution_count": 350,
   "id": "731df443-6ee5-4043-8cc0-6bd1dfdabc46",
   "metadata": {},
   "outputs": [],
   "source": [
    "y2 = data2['Website'].values #turn into array"
   ]
  },
  {
   "cell_type": "code",
   "execution_count": 351,
   "id": "ecf4572d-ad76-4e21-bf0a-39db294451c7",
   "metadata": {},
   "outputs": [],
   "source": [
    "X2 = np.array(X_df3)"
   ]
  },
  {
   "cell_type": "code",
   "execution_count": 352,
   "id": "7d275c63-0376-4afd-8f91-9b6b51c2336c",
   "metadata": {},
   "outputs": [],
   "source": [
    "#ss = SS()\n",
    "Xscaled = ss.transform(X2)"
   ]
  },
  {
   "cell_type": "code",
   "execution_count": 353,
   "id": "a111fe45-a43e-49e3-9e70-c2b2e802c445",
   "metadata": {},
   "outputs": [
    {
     "name": "stdout",
     "output_type": "stream",
     "text": [
      "Accuracy = 0.88\n"
     ]
    },
    {
     "data": {
      "text/plain": [
       "(Predicted   Blackboard  Google  Weather  Wikipedia\n",
       " Actual                                            \n",
       " Blackboard         826       0       39        171\n",
       " Google               0    5213        0          4\n",
       " Weather            187       0     2203        627\n",
       " Wikipedia           67       0      104        308,\n",
       " 0.8770130269771259)"
      ]
     },
     "execution_count": 353,
     "metadata": {},
     "output_type": "execute_result"
    }
   ],
   "source": [
    "y_pred2 = knn.predict(Xscaled)\n",
    "\n",
    "# Look at the confusion matrix\n",
    "compare_classes(y2, y_pred2)"
   ]
  },
  {
   "cell_type": "code",
   "execution_count": 354,
   "id": "c09be41e-c3df-4eef-ae07-e7a207b844b2",
   "metadata": {},
   "outputs": [
    {
     "name": "stdout",
     "output_type": "stream",
     "text": [
      "Accuracy = 0.73\n"
     ]
    },
    {
     "data": {
      "text/plain": [
       "(Predicted   Blackboard  Google  Weather  Wikipedia\n",
       " Actual                                            \n",
       " Blackboard         436       0      564         36\n",
       " Google               0    5217        0          0\n",
       " Weather           1466       0     1463         88\n",
       " Wikipedia          116       0      324         39,\n",
       " 0.7339214278387527)"
      ]
     },
     "execution_count": 354,
     "metadata": {},
     "output_type": "execute_result"
    }
   ],
   "source": [
    "y_pred2 = log_reg.predict(Xscaled)\n",
    "\n",
    "# Look at the confusion matrix\n",
    "compare_classes(y2, y_pred2)"
   ]
  },
  {
   "cell_type": "code",
   "execution_count": 355,
   "id": "5b7cfc1a-3fef-4964-b364-50bceb90abc5",
   "metadata": {},
   "outputs": [
    {
     "data": {
      "text/html": [
       "<div>\n",
       "<style scoped>\n",
       "    .dataframe tbody tr th:only-of-type {\n",
       "        vertical-align: middle;\n",
       "    }\n",
       "\n",
       "    .dataframe tbody tr th {\n",
       "        vertical-align: top;\n",
       "    }\n",
       "\n",
       "    .dataframe thead th {\n",
       "        text-align: right;\n",
       "    }\n",
       "</style>\n",
       "<table border=\"1\" class=\"dataframe\">\n",
       "  <thead>\n",
       "    <tr style=\"text-align: right;\">\n",
       "      <th></th>\n",
       "      <th>No.</th>\n",
       "      <th>Time</th>\n",
       "      <th>Source</th>\n",
       "      <th>Destination</th>\n",
       "      <th>Protocol</th>\n",
       "      <th>Length</th>\n",
       "      <th>Info</th>\n",
       "      <th>Time_Between</th>\n",
       "      <th>Website</th>\n",
       "      <th>Ttruncated</th>\n",
       "    </tr>\n",
       "  </thead>\n",
       "  <tbody>\n",
       "    <tr>\n",
       "      <th>0</th>\n",
       "      <td>1</td>\n",
       "      <td>0.000000</td>\n",
       "      <td>192.168.0.178</td>\n",
       "      <td>54.208.191.177</td>\n",
       "      <td>TLSv1.2</td>\n",
       "      <td>3578</td>\n",
       "      <td>Application Data</td>\n",
       "      <td>0.000000</td>\n",
       "      <td>Blackboard</td>\n",
       "      <td>0.000000</td>\n",
       "    </tr>\n",
       "    <tr>\n",
       "      <th>1</th>\n",
       "      <td>2</td>\n",
       "      <td>0.020962</td>\n",
       "      <td>54.208.191.177</td>\n",
       "      <td>192.168.0.178</td>\n",
       "      <td>TCP</td>\n",
       "      <td>60</td>\n",
       "      <td>443  &gt;  55960 [ACK] Seq=1 Ack=3525 Win=763 Len=0</td>\n",
       "      <td>0.020962</td>\n",
       "      <td>Blackboard</td>\n",
       "      <td>0.020962</td>\n",
       "    </tr>\n",
       "    <tr>\n",
       "      <th>2</th>\n",
       "      <td>3</td>\n",
       "      <td>0.052999</td>\n",
       "      <td>54.208.191.177</td>\n",
       "      <td>192.168.0.178</td>\n",
       "      <td>TCP</td>\n",
       "      <td>1514</td>\n",
       "      <td>443  &gt;  55960 [ACK] Seq=1 Ack=3525 Win=771 Len...</td>\n",
       "      <td>0.032037</td>\n",
       "      <td>Blackboard</td>\n",
       "      <td>0.032037</td>\n",
       "    </tr>\n",
       "    <tr>\n",
       "      <th>3</th>\n",
       "      <td>4</td>\n",
       "      <td>0.053521</td>\n",
       "      <td>54.208.191.177</td>\n",
       "      <td>192.168.0.178</td>\n",
       "      <td>TCP</td>\n",
       "      <td>2974</td>\n",
       "      <td>443  &gt;  55960 [ACK] Seq=1461 Ack=3525 Win=771 ...</td>\n",
       "      <td>0.000522</td>\n",
       "      <td>Blackboard</td>\n",
       "      <td>0.000522</td>\n",
       "    </tr>\n",
       "    <tr>\n",
       "      <th>4</th>\n",
       "      <td>5</td>\n",
       "      <td>0.053583</td>\n",
       "      <td>192.168.0.178</td>\n",
       "      <td>54.208.191.177</td>\n",
       "      <td>TCP</td>\n",
       "      <td>54</td>\n",
       "      <td>55960  &gt;  443 [ACK] Seq=3525 Ack=4381 Win=4117...</td>\n",
       "      <td>0.000062</td>\n",
       "      <td>Blackboard</td>\n",
       "      <td>0.000061</td>\n",
       "    </tr>\n",
       "  </tbody>\n",
       "</table>\n",
       "</div>"
      ],
      "text/plain": [
       "   No.      Time          Source     Destination Protocol  Length  \\\n",
       "0    1  0.000000   192.168.0.178  54.208.191.177  TLSv1.2    3578   \n",
       "1    2  0.020962  54.208.191.177   192.168.0.178      TCP      60   \n",
       "2    3  0.052999  54.208.191.177   192.168.0.178      TCP    1514   \n",
       "3    4  0.053521  54.208.191.177   192.168.0.178      TCP    2974   \n",
       "4    5  0.053583   192.168.0.178  54.208.191.177      TCP      54   \n",
       "\n",
       "                                                Info  Time_Between  \\\n",
       "0                                   Application Data      0.000000   \n",
       "1   443  >  55960 [ACK] Seq=1 Ack=3525 Win=763 Len=0      0.020962   \n",
       "2  443  >  55960 [ACK] Seq=1 Ack=3525 Win=771 Len...      0.032037   \n",
       "3  443  >  55960 [ACK] Seq=1461 Ack=3525 Win=771 ...      0.000522   \n",
       "4  55960  >  443 [ACK] Seq=3525 Ack=4381 Win=4117...      0.000062   \n",
       "\n",
       "      Website  Ttruncated  \n",
       "0  Blackboard    0.000000  \n",
       "1  Blackboard    0.020962  \n",
       "2  Blackboard    0.032037  \n",
       "3  Blackboard    0.000522  \n",
       "4  Blackboard    0.000061  "
      ]
     },
     "execution_count": 355,
     "metadata": {},
     "output_type": "execute_result"
    }
   ],
   "source": [
    "blackboardV.head()"
   ]
  },
  {
   "cell_type": "code",
   "execution_count": 356,
   "id": "60cdccaa-79d8-454b-a934-e310826446cd",
   "metadata": {},
   "outputs": [],
   "source": [
    "X_bb = blackboardV.drop(columns = ['Source','Destination', 'Info', 'Time_Between', 'Website', 'Time', 'No.'])"
   ]
  },
  {
   "cell_type": "code",
   "execution_count": 357,
   "id": "14f8a3e3-d3ba-4b8e-ae9d-c3b87d81d72d",
   "metadata": {},
   "outputs": [
    {
     "name": "stderr",
     "output_type": "stream",
     "text": [
      "/tmp/ipykernel_245/725050301.py:1: FutureWarning: Downcasting behavior in `replace` is deprecated and will be removed in a future version. To retain the old behavior, explicitly call `result.infer_objects(copy=False)`. To opt-in to the future behavior, set `pd.set_option('future.no_silent_downcasting', True)`\n",
      "  X_bb2 = X_bb.replace(['TLSv1.2', 'TLSv1.3', 'TCP', 'QUIC'], [0, 1, 2, 3])\n"
     ]
    }
   ],
   "source": [
    "X_bb2 = X_bb.replace(['TLSv1.2', 'TLSv1.3', 'TCP', 'QUIC'], [0, 1, 2, 3])"
   ]
  },
  {
   "cell_type": "code",
   "execution_count": 358,
   "id": "91881b96-9032-46c9-87ae-64a9879c78af",
   "metadata": {},
   "outputs": [
    {
     "data": {
      "text/plain": [
       "array([0, 2])"
      ]
     },
     "execution_count": 358,
     "metadata": {},
     "output_type": "execute_result"
    }
   ],
   "source": [
    "X_bb2['Protocol'].unique()"
   ]
  },
  {
   "cell_type": "code",
   "execution_count": 359,
   "id": "00cd3e8f-4782-4b69-b5d0-10a4feadd224",
   "metadata": {},
   "outputs": [],
   "source": [
    "ybb = blackboardV['Website'].values #turn into array"
   ]
  },
  {
   "cell_type": "code",
   "execution_count": 360,
   "id": "7f97c0e8-9778-4c63-ac53-6797f1931953",
   "metadata": {},
   "outputs": [],
   "source": [
    "Xbb = np.array(X_bb2)"
   ]
  },
  {
   "cell_type": "code",
   "execution_count": 361,
   "id": "e0889ca1-f730-42da-a50a-e07cc71b9ac5",
   "metadata": {},
   "outputs": [],
   "source": [
    "#ss = SS()\n",
    "Xbbscaled = ss.transform(Xbb)"
   ]
  },
  {
   "cell_type": "code",
   "execution_count": 362,
   "id": "4c926554-59d2-4971-8b9f-56f00447aa8e",
   "metadata": {},
   "outputs": [
    {
     "name": "stdout",
     "output_type": "stream",
     "text": [
      "Accuracy = 0.80\n"
     ]
    },
    {
     "data": {
      "text/plain": [
       "(Predicted   Blackboard  Weather  Wikipedia\n",
       " Actual                                    \n",
       " Blackboard         826       39        171,\n",
       " 0.7972972972972973)"
      ]
     },
     "execution_count": 362,
     "metadata": {},
     "output_type": "execute_result"
    }
   ],
   "source": [
    "ybb_pred2 = knn.predict(Xbbscaled)\n",
    "\n",
    "# Look at the confusion matrix\n",
    "compare_classes(ybb, ybb_pred2)"
   ]
  },
  {
   "cell_type": "code",
   "execution_count": 363,
   "id": "be801664-cff6-4f1f-98b4-9b1a216b3d37",
   "metadata": {},
   "outputs": [
    {
     "name": "stdout",
     "output_type": "stream",
     "text": [
      "Accuracy = 0.42\n"
     ]
    },
    {
     "data": {
      "text/plain": [
       "(Predicted   Blackboard  Weather  Wikipedia\n",
       " Actual                                    \n",
       " Blackboard         436      564         36,\n",
       " 0.42084942084942084)"
      ]
     },
     "execution_count": 363,
     "metadata": {},
     "output_type": "execute_result"
    }
   ],
   "source": [
    "ybb_pred2 = log_reg.predict(Xbbscaled)\n",
    "\n",
    "# Look at the confusion matrix\n",
    "compare_classes(ybb, ybb_pred2)"
   ]
  },
  {
   "cell_type": "code",
   "execution_count": 364,
   "id": "64178c49-1fc8-49ff-8f3a-b98d80b786b2",
   "metadata": {},
   "outputs": [
    {
     "name": "stderr",
     "output_type": "stream",
     "text": [
      "/tmp/ipykernel_245/2016137507.py:2: FutureWarning: Downcasting behavior in `replace` is deprecated and will be removed in a future version. To retain the old behavior, explicitly call `result.infer_objects(copy=False)`. To opt-in to the future behavior, set `pd.set_option('future.no_silent_downcasting', True)`\n",
      "  X_bb2 = X_bb.replace(['TLSv1.2', 'TLSv1.3', 'TCP', 'QUIC'], [0, 1, 2, 3])\n"
     ]
    },
    {
     "name": "stdout",
     "output_type": "stream",
     "text": [
      "Accuracy = 0.73\n"
     ]
    },
    {
     "data": {
      "text/plain": [
       "(Predicted  Blackboard  Weather  Wikipedia\n",
       " Actual                                   \n",
       " Weather           187     2203        627,\n",
       " 0.730195558501823)"
      ]
     },
     "execution_count": 364,
     "metadata": {},
     "output_type": "execute_result"
    }
   ],
   "source": [
    "X_bb = weatherV.drop(columns = ['Source','Destination', 'Info', 'Time_Between', 'Website', 'Time', 'No.'])\n",
    "X_bb2 = X_bb.replace(['TLSv1.2', 'TLSv1.3', 'TCP', 'QUIC'], [0, 1, 2, 3])\n",
    "ybb = weatherV['Website'].values #turn into array\n",
    "Xbb = np.array(X_bb2)\n",
    "#ss = SS()\n",
    "Xbbscaled = ss.transform(Xbb)\n",
    "ybb_pred2 = knn.predict(Xbbscaled)\n",
    "\n",
    "# Look at the confusion matrix\n",
    "compare_classes(ybb, ybb_pred2)"
   ]
  },
  {
   "cell_type": "code",
   "execution_count": 365,
   "id": "9f1e5c62-9910-4905-be0a-e03663f3576e",
   "metadata": {},
   "outputs": [
    {
     "name": "stdout",
     "output_type": "stream",
     "text": [
      "Accuracy = 0.48\n"
     ]
    },
    {
     "data": {
      "text/plain": [
       "(Predicted  Blackboard  Weather  Wikipedia\n",
       " Actual                                   \n",
       " Weather          1466     1463         88,\n",
       " 0.48491879350348027)"
      ]
     },
     "execution_count": 365,
     "metadata": {},
     "output_type": "execute_result"
    }
   ],
   "source": [
    "ybb_pred2 = log_reg.predict(Xbbscaled)\n",
    "\n",
    "# Look at the confusion matrix\n",
    "compare_classes(ybb, ybb_pred2)"
   ]
  },
  {
   "cell_type": "code",
   "execution_count": 366,
   "id": "c7a5443e-37e7-48e3-a2f7-d04c32c45cbb",
   "metadata": {},
   "outputs": [
    {
     "name": "stderr",
     "output_type": "stream",
     "text": [
      "/tmp/ipykernel_245/178326961.py:2: FutureWarning: Downcasting behavior in `replace` is deprecated and will be removed in a future version. To retain the old behavior, explicitly call `result.infer_objects(copy=False)`. To opt-in to the future behavior, set `pd.set_option('future.no_silent_downcasting', True)`\n",
      "  X_bb2 = X_bb.replace(['TLSv1.2', 'TLSv1.3', 'TCP', 'QUIC'], [0, 1, 2, 3])\n"
     ]
    },
    {
     "name": "stdout",
     "output_type": "stream",
     "text": [
      "Accuracy = 1.00\n"
     ]
    },
    {
     "data": {
      "text/plain": [
       "(Predicted  Google  Wikipedia\n",
       " Actual                      \n",
       " Google       5213          4,\n",
       " 0.9992332758290206)"
      ]
     },
     "execution_count": 366,
     "metadata": {},
     "output_type": "execute_result"
    }
   ],
   "source": [
    "X_bb = googleV.drop(columns = ['Source','Destination', 'Info', 'Time_Between', 'Website', 'Time', 'No.'])\n",
    "X_bb2 = X_bb.replace(['TLSv1.2', 'TLSv1.3', 'TCP', 'QUIC'], [0, 1, 2, 3])\n",
    "ybb = googleV['Website'].values #turn into array\n",
    "Xbb = np.array(X_bb2)\n",
    "#ss = SS()\n",
    "Xbbscaled = ss.transform(Xbb)\n",
    "ybb_pred2 = knn.predict(Xbbscaled)\n",
    "\n",
    "# Look at the confusion matrix\n",
    "compare_classes(ybb, ybb_pred2)"
   ]
  },
  {
   "cell_type": "code",
   "execution_count": 367,
   "id": "746da1eb-8ef2-4018-b44a-4a5b46989433",
   "metadata": {},
   "outputs": [
    {
     "name": "stdout",
     "output_type": "stream",
     "text": [
      "Accuracy = 1.00\n"
     ]
    },
    {
     "data": {
      "text/plain": [
       "(Predicted  Google\n",
       " Actual           \n",
       " Google       5217,\n",
       " 1.0)"
      ]
     },
     "execution_count": 367,
     "metadata": {},
     "output_type": "execute_result"
    }
   ],
   "source": [
    "ybb_pred2 = log_reg.predict(Xbbscaled)\n",
    "\n",
    "# Look at the confusion matrix\n",
    "compare_classes(ybb, ybb_pred2)"
   ]
  },
  {
   "cell_type": "code",
   "execution_count": 368,
   "id": "b1eca35c-9849-4d49-98e5-431287f31f5f",
   "metadata": {},
   "outputs": [
    {
     "name": "stdout",
     "output_type": "stream",
     "text": [
      "Accuracy = 0.64\n"
     ]
    },
    {
     "name": "stderr",
     "output_type": "stream",
     "text": [
      "/tmp/ipykernel_245/2857074402.py:2: FutureWarning: Downcasting behavior in `replace` is deprecated and will be removed in a future version. To retain the old behavior, explicitly call `result.infer_objects(copy=False)`. To opt-in to the future behavior, set `pd.set_option('future.no_silent_downcasting', True)`\n",
      "  X_bb2 = X_bb.replace(['TLSv1.2', 'TLSv1.3', 'TCP', 'QUIC'], [0, 1, 2, 3])\n"
     ]
    },
    {
     "data": {
      "text/plain": [
       "(Predicted  Blackboard  Weather  Wikipedia\n",
       " Actual                                   \n",
       " Wikipedia          67      104        308,\n",
       " 0.6430062630480167)"
      ]
     },
     "execution_count": 368,
     "metadata": {},
     "output_type": "execute_result"
    }
   ],
   "source": [
    "X_bb = wikipediaV.drop(columns = ['Source','Destination', 'Info', 'Time_Between', 'Website', 'Time', 'No.'])\n",
    "X_bb2 = X_bb.replace(['TLSv1.2', 'TLSv1.3', 'TCP', 'QUIC'], [0, 1, 2, 3])\n",
    "ybb = wikipediaV['Website'].values #turn into array\n",
    "Xbb = np.array(X_bb2)\n",
    "#ss = SS()\n",
    "Xbbscaled = ss.transform(Xbb)\n",
    "ybb_pred2 = knn.predict(Xbbscaled)\n",
    "\n",
    "# Look at the confusion matrix\n",
    "compare_classes(ybb, ybb_pred2)"
   ]
  },
  {
   "cell_type": "code",
   "execution_count": 369,
   "id": "18f0962b-8790-4a18-a775-4e13e59c5478",
   "metadata": {},
   "outputs": [
    {
     "name": "stdout",
     "output_type": "stream",
     "text": [
      "Accuracy = 0.08\n"
     ]
    },
    {
     "data": {
      "text/plain": [
       "(Predicted  Blackboard  Weather  Wikipedia\n",
       " Actual                                   \n",
       " Wikipedia         116      324         39,\n",
       " 0.081419624217119)"
      ]
     },
     "execution_count": 369,
     "metadata": {},
     "output_type": "execute_result"
    }
   ],
   "source": [
    "ybb_pred2 = log_reg.predict(Xbbscaled)\n",
    "\n",
    "# Look at the confusion matrix\n",
    "compare_classes(ybb, ybb_pred2)"
   ]
  },
  {
   "cell_type": "code",
   "execution_count": null,
   "id": "d82b82ad-ee82-46cd-997f-a95ccce35def",
   "metadata": {},
   "outputs": [],
   "source": []
  },
  {
   "cell_type": "code",
   "execution_count": null,
   "id": "84616a82-9c45-4745-bfbd-33e9427c03da",
   "metadata": {},
   "outputs": [],
   "source": []
  },
  {
   "cell_type": "code",
   "execution_count": null,
   "id": "1aead9bb-6ade-4557-9863-e69cc522f759",
   "metadata": {},
   "outputs": [],
   "source": []
  },
  {
   "cell_type": "code",
   "execution_count": null,
   "id": "7130044e-29c9-468f-adb8-a0bc7c45e750",
   "metadata": {},
   "outputs": [],
   "source": []
  },
  {
   "cell_type": "code",
   "execution_count": null,
   "id": "7de4188a-1035-478c-a4cb-9e75c5ba786f",
   "metadata": {},
   "outputs": [],
   "source": []
  },
  {
   "cell_type": "code",
   "execution_count": null,
   "id": "f8d4a451-d3fb-4d67-9cce-94a3a9569093",
   "metadata": {},
   "outputs": [],
   "source": []
  }
 ],
 "metadata": {
  "kernelspec": {
   "display_name": "Python 3 (ipykernel)",
   "language": "python",
   "name": "python3"
  },
  "language_info": {
   "codemirror_mode": {
    "name": "ipython",
    "version": 3
   },
   "file_extension": ".py",
   "mimetype": "text/x-python",
   "name": "python",
   "nbconvert_exporter": "python",
   "pygments_lexer": "ipython3",
   "version": "3.11.6"
  }
 },
 "nbformat": 4,
 "nbformat_minor": 5
}
